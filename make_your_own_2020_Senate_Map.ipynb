{
 "cells": [
  {
   "cell_type": "markdown",
   "metadata": {},
   "source": [
    "# Make your 2020 Senate Map\n",
    "\n",
    "### Step by Step instructions are provided, this code may seem complicated, but you don't need to understand it to make your own map. Someone with zero coding experience can still make one of our maps!\n",
    "\n",
    "Note: By changing this code, it will not change for other users, so don't worry about that. If you mess something up, you can go to this link to start over with the original code: https://mybinder.org/v2/gh/election-perfection/ElectionMaps/master\n",
    "\n",
    "by https://electionperfection.org"
   ]
  },
  {
   "cell_type": "markdown",
   "metadata": {},
   "source": [
    "### Step 1: Run this Cell, don't change anything inside. This cell will generate ALOT of output, that's normal. It will tell you to move onto Step 2 when it is complete. This cell may take a minute or so to complete.\n",
    "\n",
    "How to run a cell: Option 1: click the cell and click the button that looks like this: '>| Run' at the top. Option 2: hit the black button that's next to the cell. Either one works and can be used interchangeably."
   ]
  },
  {
   "cell_type": "code",
   "execution_count": 1,
   "metadata": {},
   "outputs": [
    {
     "name": "stdout",
     "output_type": "stream",
     "text": [
      "Step 1 is complete, move on to Step 2\n"
     ]
    }
   ],
   "source": [
    "!pip install matplotlib\n",
    "!pip install numpy\n",
    "!conda install -c conda-forge cartopy --yes\n",
    "!pip install ipywidgets\n",
    "\n",
    "import matplotlib.pyplot as plt\n",
    "import cartopy.crs as ccrs\n",
    "import cartopy.io.shapereader as shpreader\n",
    "import numpy as np\n",
    "import matplotlib.gridspec as gridspec\n",
    "import ipywidgets as widgets\n",
    "\n",
    "rcount = 30\n",
    "dcount = 35\n",
    "small_states = ['Vermont','New Hampshire','New Jersey','Delaware','Rhode Island','Massachusetts','Connecticut','Maryland']\n",
    "\n",
    "print('Step 1 is complete, move on to Step 2')"
   ]
  },
  {
   "cell_type": "markdown",
   "metadata": {},
   "source": [
    "### Step 2: Run this Cell, don't change anything inside."
   ]
  },
  {
   "cell_type": "code",
   "execution_count": 2,
   "metadata": {},
   "outputs": [],
   "source": [
    "states = {\n",
    "    'Alabama':{'Lat':32.806671,'Lon':-86.791130-.5,'EV':9},\n",
    "    'Alaska':{'Lat':61.370716+1,'Lon':-152.404419,'EV':3},\n",
    "    'Arizona':{'Lat':33.729759,'Lon':-111.431221-1,'EV':11},\n",
    "    'Arkansas':{'Lat':34.969704,'Lon':-92.373123-1,'EV':6},\n",
    "    'California':{'Lat':36.116203,'Lon':-119.681564,'EV':55},\n",
    "    'Colorado':{'Lat':39.059811-.5,'Lon':-105.311104-1,'EV':9},\n",
    "    'Connecticut':{'Lat':41.597782,'Lon':-72.755371,'EV':7},\n",
    "    'Delaware':{'Lat':39.318523,'Lon':-75.507141,'EV':3},\n",
    "    'District of Columbia':{'Lat':38.897438,'Lon':-77.026817,'EV':3},\n",
    "    'Florida':{'Lat':27.766279,'Lon':-81.686783-.5,'EV':29},\n",
    "    'Georgia':{'Lat':33.040619-.5,'Lon':-83.643074-.5,'EV':16},\n",
    "    'Hawaii':{'Lat':21.094318,'Lon':-157.498337+1,'EV':4},\n",
    "    'Idaho':{'Lat':44.240459,'Lon':-114.478828-1,'EV':4},\n",
    "    'Illinois':{'Lat':40.349457-.5,'Lon':-88.986137-1,'EV':20},\n",
    "    'Indiana':{'Lat':39.849426,'Lon':-86.258278-.5,'EV':11},\n",
    "    'Iowa':{'Lat':42.011539,'Lon':-93.210526-1, 'EV':6},\n",
    "    'Kansas':{'Lat':38.526600-0.3,'Lon':-96.726486-2, 'EV':6},\n",
    "    'Kentucky':{'Lat':37.668140-.5,'Lon':-84.670067-1,'EV':8},\n",
    "    'Louisiana':{'Lat':31.169546,'Lon':-91.867805-1.5,'EV':8},\n",
    "    'Maine':{'Lat':44.693947,'Lon':-69.381927-1,'EV':4},\n",
    "    'Maryland':{'Lat':39.063946,'Lon':-76.802101,'EV':10},\n",
    "    'Massachusetts':{'Lat':42.230171,'Lon':-71.530106,'EV':11},\n",
    "    'Michigan':{'Lat':43.326618,'Lon':-84.536095-1,'EV':16},\n",
    "    'Minnesota':{'Lat':45.694454,'Lon':-93.900192-1.5,'EV':10},\n",
    "    'Mississippi':{'Lat':32.741646,'Lon':-89.678696-.5,'EV':6},\n",
    "    'Missouri':{'Lat':38.456085,'Lon':-92.288368-1,'EV':10},\n",
    "    'Montana':{'Lat':46.921925,'Lon':-110.454353,'EV':3},\n",
    "    'Nebraska':{'Lat':41.125370,'Lon':-98.268082-2,'EV':5},\n",
    "    'Nevada':{'Lat':38.313515,'Lon':-117.055374,'EV':6},\n",
    "    'New Hampshire':{'Lat':43.452492,'Lon':-71.563896,'EV':4},\n",
    "    'New Jersey':{'Lat':40.298904,'Lon':-74.521011,'EV':14},\n",
    "    'New Mexico':{'Lat':34.840515-1,'Lon':-106.248482-.5,'EV':5},\n",
    "    'New York':{'Lat':42.165726+1,'Lon':-74.948051-1,'EV':29},\n",
    "    'North Carolina':{'Lat':35.630066-0.3,'Lon':-79.806419,'EV':15},\n",
    "    'North Dakota':{'Lat':47.528912-.3,'Lon':-99.784012-1,'EV':3},\n",
    "    'Ohio':{'Lat':40.388783-.5,'Lon':-82.764915-1,'EV':18},\n",
    "    'Oklahoma':{'Lat':35.565342,'Lon':-96.928917-1.5,'EV':7},\n",
    "    'Oregon':{'Lat':44.572021-1,'Lon':-122.070938,'EV':7},\n",
    "    'Pennsylvania':{'Lat':40.590752,'Lon':-77.209755-1.5,'EV':20},\n",
    "    'Rhode Island':{'Lat':41.680893,'Lon':-71.511780,'EV':4},\n",
    "    'South Carolina':{'Lat':33.856892-0.5,'Lon':-80.945007-0.5,'EV':9},\n",
    "    'South Dakota':{'Lat':44.299782,'Lon':-99.438828-1,'EV':3},\n",
    "    'Tennessee':{'Lat':35.747845-.2,'Lon':-86.692345,'EV':11},\n",
    "    'Texas':{'Lat':31.054487,'Lon':-97.563461-2,'EV':38},\n",
    "    'Utah':{'Lat':40.150032-1.5,'Lon':-111.862434,'EV':6},\n",
    "    'Vermont':{'Lat':44.045876,'Lon':-72.710686,'EV':3},\n",
    "    'Virginia':{'Lat':37.769337-.5,'Lon':-78.169968-.5,'EV':13},\n",
    "    'Washington':{'Lat':47.400902-.3,'Lon':-121.490494,'EV':12},\n",
    "    'West Virginia':{'Lat':38.491226-.2,'Lon':-80.954453-.5,'EV':5},\n",
    "    'Wisconsin':{'Lat':44.268543,'Lon':-89.616508-1,'EV':10},\n",
    "    'Wyoming':{'Lat':42.755966,'Lon':-107.302490-1,'EV':3}}\n",
    "\n",
    "print('Move onto Step 3')"
   ]
  },
  {
   "cell_type": "markdown",
   "metadata": {},
   "source": [
    "### Step 3: Run the cell, then Enter your predictions in the dropdown menus.\n",
    "\n",
    "#### Instructions\n",
    "Select Democrat, Republican, or TBD if you wish to leave the state undecided.\n",
    "For states with a major independent candidate, the options will be listed as either Independent-D or Independent-R. The D or R is a shorthand for indicating that the independent will likely vote on that side most of the time. For example, Sen. Sanders and Sen. King are examples of Independent-D\n",
    "\n",
    "For Georgia Special: It is likely that no candidate gets 50% of the vote and a runoff occurs. If you predict a runoff you have three options. If you think 2 Republicans will advance to the runoff, select Republican. If you think 2 Democrats will advance, pick Democrat. If you think one of each party will advance to the runoff, select 'Both'.\n",
    "#### DO NOT RERUN the cell once you make your selections or you will lose them\n",
    "Once you have made your selections proceed to the next cell. \n",
    "To change your predictions later on in this session, you only need to change the dropdown menus here, then rerun the following cells, you never have to rerun this particular cell to adopt the change. \n",
    "\n",
    "Once you leave this page your changes will disapear, so make sure you follow the instructions to save your map at the end in Step 6."
   ]
  },
  {
   "cell_type": "code",
   "execution_count": 12,
   "metadata": {},
   "outputs": [
    {
     "data": {
      "application/vnd.jupyter.widget-view+json": {
       "model_id": "dd5365dc14ce4d909aeb85ddb90d7085",
       "version_major": 2,
       "version_minor": 0
      },
      "text/plain": [
       "Dropdown(description='Alabama', index=2, options=('Democrat', 'Republican', 'TBD'), value='TBD')"
      ]
     },
     "metadata": {},
     "output_type": "display_data"
    },
    {
     "data": {
      "application/vnd.jupyter.widget-view+json": {
       "model_id": "e61a6f36c8034cb2b4736b0248ffb6de",
       "version_major": 2,
       "version_minor": 0
      },
      "text/plain": [
       "Dropdown(description='Alaska', index=2, options=('Independent-D', 'Republican', 'TBD'), value='TBD')"
      ]
     },
     "metadata": {},
     "output_type": "display_data"
    },
    {
     "data": {
      "application/vnd.jupyter.widget-view+json": {
       "model_id": "275d4afa725745fba925d1600aca115f",
       "version_major": 2,
       "version_minor": 0
      },
      "text/plain": [
       "Dropdown(description='Arizona', index=2, options=('Democrat', 'Republican', 'TBD'), value='TBD')"
      ]
     },
     "metadata": {},
     "output_type": "display_data"
    },
    {
     "data": {
      "application/vnd.jupyter.widget-view+json": {
       "model_id": "d653754ac86c48e1a3a512bd26b7eb44",
       "version_major": 2,
       "version_minor": 0
      },
      "text/plain": [
       "Dropdown(description='Arkansas', index=2, options=('Democrat', 'Republican', 'TBD'), value='TBD')"
      ]
     },
     "metadata": {},
     "output_type": "display_data"
    },
    {
     "data": {
      "application/vnd.jupyter.widget-view+json": {
       "model_id": "db69ac18e96e4721a307440b82491027",
       "version_major": 2,
       "version_minor": 0
      },
      "text/plain": [
       "Dropdown(description='Colorado', index=2, options=('Democrat', 'Republican', 'TBD'), value='TBD')"
      ]
     },
     "metadata": {},
     "output_type": "display_data"
    },
    {
     "data": {
      "application/vnd.jupyter.widget-view+json": {
       "model_id": "ed0ff4b101984064bfb3059ea88a5c35",
       "version_major": 2,
       "version_minor": 0
      },
      "text/plain": [
       "Dropdown(description='Delaware', index=2, options=('Democrat', 'Republican', 'TBD'), value='TBD')"
      ]
     },
     "metadata": {},
     "output_type": "display_data"
    },
    {
     "data": {
      "application/vnd.jupyter.widget-view+json": {
       "model_id": "673dcd857f344dc38025ec6db203e1aa",
       "version_major": 2,
       "version_minor": 0
      },
      "text/plain": [
       "Dropdown(description='Georgia', index=2, options=('Democrat', 'Republican', 'TBD'), value='TBD')"
      ]
     },
     "metadata": {},
     "output_type": "display_data"
    },
    {
     "data": {
      "application/vnd.jupyter.widget-view+json": {
       "model_id": "e5898b74e81f4db4927b084772ffbefc",
       "version_major": 2,
       "version_minor": 0
      },
      "text/plain": [
       "Dropdown(description='Georgia Special', index=3, options=('Democrat', 'Republican', 'Both', 'TBD'), value='TBD…"
      ]
     },
     "metadata": {},
     "output_type": "display_data"
    },
    {
     "data": {
      "application/vnd.jupyter.widget-view+json": {
       "model_id": "26b1fc06a03a47a1af6212fbac5d4b84",
       "version_major": 2,
       "version_minor": 0
      },
      "text/plain": [
       "Dropdown(description='Idaho', index=2, options=('Democrat', 'Republican', 'TBD'), value='TBD')"
      ]
     },
     "metadata": {},
     "output_type": "display_data"
    },
    {
     "data": {
      "application/vnd.jupyter.widget-view+json": {
       "model_id": "0ec04bcc8da84003bdef26f308ed29be",
       "version_major": 2,
       "version_minor": 0
      },
      "text/plain": [
       "Dropdown(description='Illinois', index=2, options=('Democrat', 'Republican', 'TBD'), value='TBD')"
      ]
     },
     "metadata": {},
     "output_type": "display_data"
    },
    {
     "data": {
      "application/vnd.jupyter.widget-view+json": {
       "model_id": "45ae43ab0e8648d485f653d9b206bc76",
       "version_major": 2,
       "version_minor": 0
      },
      "text/plain": [
       "Dropdown(description='Iowa', index=2, options=('Democrat', 'Republican', 'TBD'), value='TBD')"
      ]
     },
     "metadata": {},
     "output_type": "display_data"
    },
    {
     "data": {
      "application/vnd.jupyter.widget-view+json": {
       "model_id": "2334db00b5144cb1877b68e209c2e238",
       "version_major": 2,
       "version_minor": 0
      },
      "text/plain": [
       "Dropdown(description='Kansas', index=2, options=('Democrat', 'Republican', 'TBD'), value='TBD')"
      ]
     },
     "metadata": {},
     "output_type": "display_data"
    },
    {
     "data": {
      "application/vnd.jupyter.widget-view+json": {
       "model_id": "3987b5dd800c4f68804f5b511f7bb7b7",
       "version_major": 2,
       "version_minor": 0
      },
      "text/plain": [
       "Dropdown(description='Kentucky', index=2, options=('Democrat', 'Republican', 'TBD'), value='TBD')"
      ]
     },
     "metadata": {},
     "output_type": "display_data"
    },
    {
     "data": {
      "application/vnd.jupyter.widget-view+json": {
       "model_id": "cab0db5cc97b4e0b8bcfd2f7bb7e8c5d",
       "version_major": 2,
       "version_minor": 0
      },
      "text/plain": [
       "Dropdown(description='Louisiana', index=2, options=('Democrat', 'Republican', 'TBD'), value='TBD')"
      ]
     },
     "metadata": {},
     "output_type": "display_data"
    },
    {
     "data": {
      "application/vnd.jupyter.widget-view+json": {
       "model_id": "ab0d9c9b930b4022b85e2fcd2abd9ef5",
       "version_major": 2,
       "version_minor": 0
      },
      "text/plain": [
       "Dropdown(description='Maine', index=2, options=('Democrat', 'Republican', 'TBD'), value='TBD')"
      ]
     },
     "metadata": {},
     "output_type": "display_data"
    },
    {
     "data": {
      "application/vnd.jupyter.widget-view+json": {
       "model_id": "4611412850f44b8fa94c8c92d5df5d83",
       "version_major": 2,
       "version_minor": 0
      },
      "text/plain": [
       "Dropdown(description='Massachusetts', index=2, options=('Democrat', 'Republican', 'TBD'), value='TBD')"
      ]
     },
     "metadata": {},
     "output_type": "display_data"
    },
    {
     "data": {
      "application/vnd.jupyter.widget-view+json": {
       "model_id": "e457c93b7496447e9afa03c43855d7e7",
       "version_major": 2,
       "version_minor": 0
      },
      "text/plain": [
       "Dropdown(description='Michigan', index=2, options=('Democrat', 'Republican', 'TBD'), value='TBD')"
      ]
     },
     "metadata": {},
     "output_type": "display_data"
    },
    {
     "data": {
      "application/vnd.jupyter.widget-view+json": {
       "model_id": "784a69ed77984c8a9a459cfa87478b74",
       "version_major": 2,
       "version_minor": 0
      },
      "text/plain": [
       "Dropdown(description='Minnesota', index=2, options=('Democrat', 'Republican', 'TBD'), value='TBD')"
      ]
     },
     "metadata": {},
     "output_type": "display_data"
    },
    {
     "data": {
      "application/vnd.jupyter.widget-view+json": {
       "model_id": "9bc6d31fe20341ea89950a5a51c29a96",
       "version_major": 2,
       "version_minor": 0
      },
      "text/plain": [
       "Dropdown(description='Mississippi', index=2, options=('Democrat', 'Republican', 'TBD'), value='TBD')"
      ]
     },
     "metadata": {},
     "output_type": "display_data"
    },
    {
     "data": {
      "application/vnd.jupyter.widget-view+json": {
       "model_id": "21fafbc116ec4b7782cdf8fa42d743ec",
       "version_major": 2,
       "version_minor": 0
      },
      "text/plain": [
       "Dropdown(description='Montana', index=2, options=('Democrat', 'Republican', 'TBD'), value='TBD')"
      ]
     },
     "metadata": {},
     "output_type": "display_data"
    },
    {
     "data": {
      "application/vnd.jupyter.widget-view+json": {
       "model_id": "3b51d39833b14b32bf152e27d0bbc308",
       "version_major": 2,
       "version_minor": 0
      },
      "text/plain": [
       "Dropdown(description='Nebraska', index=2, options=('Democrat', 'Republican', 'TBD'), value='TBD')"
      ]
     },
     "metadata": {},
     "output_type": "display_data"
    },
    {
     "data": {
      "application/vnd.jupyter.widget-view+json": {
       "model_id": "47e93651729b44438fd1e5b3ccca3118",
       "version_major": 2,
       "version_minor": 0
      },
      "text/plain": [
       "Dropdown(description='New Hampshire', index=2, options=('Democrat', 'Republican', 'TBD'), value='TBD')"
      ]
     },
     "metadata": {},
     "output_type": "display_data"
    },
    {
     "data": {
      "application/vnd.jupyter.widget-view+json": {
       "model_id": "9aa1fb5884994f828200c3e550e27a54",
       "version_major": 2,
       "version_minor": 0
      },
      "text/plain": [
       "Dropdown(description='New Jersey', index=2, options=('Democrat', 'Republican', 'TBD'), value='TBD')"
      ]
     },
     "metadata": {},
     "output_type": "display_data"
    },
    {
     "data": {
      "application/vnd.jupyter.widget-view+json": {
       "model_id": "c22117bb31674d53b31a91890f79fa3e",
       "version_major": 2,
       "version_minor": 0
      },
      "text/plain": [
       "Dropdown(description='New Mexico', index=2, options=('Democrat', 'Republican', 'TBD'), value='TBD')"
      ]
     },
     "metadata": {},
     "output_type": "display_data"
    },
    {
     "data": {
      "application/vnd.jupyter.widget-view+json": {
       "model_id": "8f13ea5096d84a7cbec2db72512aa3b1",
       "version_major": 2,
       "version_minor": 0
      },
      "text/plain": [
       "Dropdown(description='North Carolina', index=2, options=('Democrat', 'Republican', 'TBD'), value='TBD')"
      ]
     },
     "metadata": {},
     "output_type": "display_data"
    },
    {
     "data": {
      "application/vnd.jupyter.widget-view+json": {
       "model_id": "2cbff80a3bcc40c3bbeacbb681cf4404",
       "version_major": 2,
       "version_minor": 0
      },
      "text/plain": [
       "Dropdown(description='Oklahoma', index=2, options=('Democrat', 'Republican', 'TBD'), value='TBD')"
      ]
     },
     "metadata": {},
     "output_type": "display_data"
    },
    {
     "data": {
      "application/vnd.jupyter.widget-view+json": {
       "model_id": "ec5d6aa23b974ba99943855773c6481e",
       "version_major": 2,
       "version_minor": 0
      },
      "text/plain": [
       "Dropdown(description='Oregon', index=2, options=('Democrat', 'Republican', 'TBD'), value='TBD')"
      ]
     },
     "metadata": {},
     "output_type": "display_data"
    },
    {
     "data": {
      "application/vnd.jupyter.widget-view+json": {
       "model_id": "f946a48c2b9841eaa308c29b82abdcad",
       "version_major": 2,
       "version_minor": 0
      },
      "text/plain": [
       "Dropdown(description='Rhode Island', index=2, options=('Democrat', 'Republican', 'TBD'), value='TBD')"
      ]
     },
     "metadata": {},
     "output_type": "display_data"
    },
    {
     "data": {
      "application/vnd.jupyter.widget-view+json": {
       "model_id": "abc2f00160a64aa8a6a4339eca4919ef",
       "version_major": 2,
       "version_minor": 0
      },
      "text/plain": [
       "Dropdown(description='South Carolina', index=2, options=('Democrat', 'Republican', 'TBD'), value='TBD')"
      ]
     },
     "metadata": {},
     "output_type": "display_data"
    },
    {
     "data": {
      "application/vnd.jupyter.widget-view+json": {
       "model_id": "a98515cc0a324286a455ca1fa15f6575",
       "version_major": 2,
       "version_minor": 0
      },
      "text/plain": [
       "Dropdown(description='South Dakota', index=2, options=('Democrat', 'Republican', 'TBD'), value='TBD')"
      ]
     },
     "metadata": {},
     "output_type": "display_data"
    },
    {
     "data": {
      "application/vnd.jupyter.widget-view+json": {
       "model_id": "77dc58ad141c43918ef61cef761065c6",
       "version_major": 2,
       "version_minor": 0
      },
      "text/plain": [
       "Dropdown(description='Tennessee', index=2, options=('Democrat', 'Republican', 'TBD'), value='TBD')"
      ]
     },
     "metadata": {},
     "output_type": "display_data"
    },
    {
     "data": {
      "application/vnd.jupyter.widget-view+json": {
       "model_id": "89d5e024f00649b59bec2cd063fbf6b4",
       "version_major": 2,
       "version_minor": 0
      },
      "text/plain": [
       "Dropdown(description='Texas', index=2, options=('Democrat', 'Republican', 'TBD'), value='TBD')"
      ]
     },
     "metadata": {},
     "output_type": "display_data"
    },
    {
     "data": {
      "application/vnd.jupyter.widget-view+json": {
       "model_id": "c4863877bda1478b969ba54d9513263f",
       "version_major": 2,
       "version_minor": 0
      },
      "text/plain": [
       "Dropdown(description='Virginia', index=2, options=('Democrat', 'Republican', 'TBD'), value='TBD')"
      ]
     },
     "metadata": {},
     "output_type": "display_data"
    },
    {
     "data": {
      "application/vnd.jupyter.widget-view+json": {
       "model_id": "365bbce6947f40aaa4420f1122cdf6bb",
       "version_major": 2,
       "version_minor": 0
      },
      "text/plain": [
       "Dropdown(description='West Virginia', index=2, options=('Democrat', 'Republican', 'TBD'), value='TBD')"
      ]
     },
     "metadata": {},
     "output_type": "display_data"
    },
    {
     "data": {
      "application/vnd.jupyter.widget-view+json": {
       "model_id": "4879f2ec3c3a417fa85ff2a4936c4030",
       "version_major": 2,
       "version_minor": 0
      },
      "text/plain": [
       "Dropdown(description='Wyoming', index=2, options=('Democrat', 'Republican', 'TBD'), value='TBD')"
      ]
     },
     "metadata": {},
     "output_type": "display_data"
    }
   ],
   "source": [
    "alabama_menu = widgets.Dropdown(options=['Democrat', 'Republican', 'TBD'],\n",
    "    value='TBD',description='Alabama')\n",
    "display(alabama_menu)\n",
    "\n",
    "alaska_menu = widgets.Dropdown(options=['Independent-D', 'Republican', 'TBD'],\n",
    "    value='TBD',description='Alaska')\n",
    "display(alaska_menu)\n",
    "\n",
    "arizona_menu = widgets.Dropdown(options=['Democrat', 'Republican', 'TBD'],\n",
    "    value='TBD',description='Arizona')\n",
    "display(arizona_menu)\n",
    "\n",
    "arkansas_menu = widgets.Dropdown(options=['Democrat', 'Republican', 'TBD'],\n",
    "    value='TBD',description='Arkansas')\n",
    "display(arkansas_menu)\n",
    "\n",
    "colorado_menu = widgets.Dropdown(options=['Democrat', 'Republican', 'TBD'],\n",
    "    value='TBD',description='Colorado')\n",
    "display(colorado_menu)\n",
    "\n",
    "delaware_menu = widgets.Dropdown(options=['Democrat', 'Republican', 'TBD'],\n",
    "    value='TBD',description='Delaware')\n",
    "display(delaware_menu)\n",
    "\n",
    "georgia_menu = widgets.Dropdown(options=['Democrat', 'Republican', 'TBD'],\n",
    "    value='TBD',description='Georgia')\n",
    "display(georgia_menu)\n",
    "\n",
    "georgia_special_menu = widgets.Dropdown(options=['Democrat', 'Republican', 'Both','TBD'],\n",
    "    value='TBD',description='Georgia Special')\n",
    "display(georgia_special_menu)\n",
    "\n",
    "idaho_menu = widgets.Dropdown(options=['Democrat', 'Republican', 'TBD'],\n",
    "    value='TBD',description='Idaho')\n",
    "display(idaho_menu)\n",
    "\n",
    "illinois_menu = widgets.Dropdown(options=['Democrat', 'Republican', 'TBD'],\n",
    "    value='TBD',description='Illinois')\n",
    "display(illinois_menu)\n",
    "\n",
    "iowa_menu = widgets.Dropdown(options=['Democrat', 'Republican', 'TBD'],\n",
    "    value='TBD',description='Iowa')\n",
    "display(iowa_menu)\n",
    "\n",
    "kansas_menu = widgets.Dropdown(options=['Democrat', 'Republican', 'TBD'],\n",
    "    value='TBD',description='Kansas')\n",
    "display(kansas_menu)\n",
    "\n",
    "kentucky_menu = widgets.Dropdown(options=['Democrat', 'Republican', 'TBD'],\n",
    "    value='TBD',description='Kentucky')\n",
    "display(kentucky_menu)\n",
    "\n",
    "louisiana_menu = widgets.Dropdown(options=['Democrat', 'Republican', 'TBD'],\n",
    "    value='TBD',description='Louisiana')\n",
    "display(louisiana_menu)\n",
    "\n",
    "maine_menu = widgets.Dropdown(options=['Democrat', 'Republican', 'TBD'],\n",
    "    value='TBD',description='Maine')\n",
    "display(maine_menu)\n",
    "\n",
    "massachusetts_menu = widgets.Dropdown(options=['Democrat', 'Republican', 'TBD'],\n",
    "    value='TBD',description='Massachusetts')\n",
    "display(massachusetts_menu)\n",
    "\n",
    "michigan_menu = widgets.Dropdown(options=['Democrat', 'Republican', 'TBD'],\n",
    "    value='TBD',description='Michigan')\n",
    "display(michigan_menu)\n",
    "\n",
    "minnesota_menu = widgets.Dropdown(options=['Democrat', 'Republican', 'TBD'],\n",
    "    value='TBD',description='Minnesota')\n",
    "display(minnesota_menu)\n",
    "\n",
    "mississippi_menu = widgets.Dropdown(options=['Democrat', 'Republican', 'TBD'],\n",
    "    value='TBD',description='Mississippi')\n",
    "display(mississippi_menu)\n",
    "\n",
    "montana_menu = widgets.Dropdown(options=['Democrat', 'Republican', 'TBD'],\n",
    "    value='TBD',description='Montana')\n",
    "display(montana_menu)\n",
    "\n",
    "nebraska_menu = widgets.Dropdown(options=['Democrat', 'Republican', 'TBD'],\n",
    "    value='TBD',description='Nebraska')\n",
    "display(nebraska_menu)\n",
    "\n",
    "new_hampshire_menu = widgets.Dropdown(options=['Democrat', 'Republican', 'TBD'],\n",
    "    value='TBD',description='New Hampshire')\n",
    "display(new_hampshire_menu)\n",
    "\n",
    "new_jersey_menu = widgets.Dropdown(options=['Democrat', 'Republican', 'TBD'],\n",
    "    value='TBD',description='New Jersey')\n",
    "display(new_jersey_menu)\n",
    "\n",
    "new_mexico_menu = widgets.Dropdown(options=['Democrat', 'Republican', 'TBD'],\n",
    "    value='TBD',description='New Mexico')\n",
    "display(new_mexico_menu)\n",
    "\n",
    "north_carolina_menu = widgets.Dropdown(options=['Democrat', 'Republican', 'TBD'],\n",
    "    value='TBD',description='North Carolina')\n",
    "display(north_carolina_menu)\n",
    "\n",
    "oklahoma_menu = widgets.Dropdown(options=['Democrat', 'Republican', 'TBD'],\n",
    "    value='TBD',description='Oklahoma')\n",
    "display(oklahoma_menu)\n",
    "\n",
    "oregon_menu = widgets.Dropdown(options=['Democrat', 'Republican', 'TBD'],\n",
    "    value='TBD',description='Oregon')\n",
    "display(oregon_menu)\n",
    "\n",
    "rhode_island_menu = widgets.Dropdown(options=['Democrat', 'Republican', 'TBD'],\n",
    "    value='TBD',description='Rhode Island')\n",
    "display(rhode_island_menu)\n",
    "\n",
    "south_carolina_menu = widgets.Dropdown(options=['Democrat', 'Republican', 'TBD'],\n",
    "    value='TBD',description='South Carolina')\n",
    "display(south_carolina_menu)\n",
    "\n",
    "south_dakota_menu = widgets.Dropdown(options=['Democrat', 'Republican', 'TBD'],\n",
    "    value='TBD',description='South Dakota')\n",
    "display(south_dakota_menu)\n",
    "\n",
    "tennessee_menu = widgets.Dropdown(options=['Democrat', 'Republican', 'TBD'],\n",
    "    value='TBD',description='Tennessee')\n",
    "display(tennessee_menu)\n",
    "\n",
    "texas_menu = widgets.Dropdown(options=['Democrat', 'Republican', 'TBD'],\n",
    "    value='TBD',description='Texas')\n",
    "display(texas_menu)\n",
    "\n",
    "virginia_menu = widgets.Dropdown(options=['Democrat', 'Republican', 'TBD'],\n",
    "    value='TBD',description='Virginia')\n",
    "display(virginia_menu)\n",
    "\n",
    "west_virginia_menu = widgets.Dropdown(options=['Democrat', 'Republican', 'TBD'],\n",
    "    value='TBD',description='West Virginia')\n",
    "display(west_virginia_menu)\n",
    "\n",
    "wyoming_menu = widgets.Dropdown(options=['Democrat', 'Republican', 'TBD'],\n",
    "    value='TBD',description='Wyoming')\n",
    "display(wyoming_menu)"
   ]
  },
  {
   "cell_type": "markdown",
   "metadata": {},
   "source": [
    "### Step 4: Run the cell, don't change anything."
   ]
  },
  {
   "cell_type": "code",
   "execution_count": 15,
   "metadata": {},
   "outputs": [],
   "source": [
    "states['Alabama']['prediction'] = alabama_menu.value\n",
    "\n",
    "states['Alaska']['prediction'] = alaska_menu.value\n",
    "\n",
    "states['Arizona']['prediction'] = arizona_menu.value\n",
    "\n",
    "states['Arkansas']['prediction'] = arkansas_menu.value\n",
    "\n",
    "states['California']['prediction'] = 'NE'\n",
    "\n",
    "states['Colorado']['prediction'] = colorado_menu.value\n",
    "\n",
    "states['Connecticut']['prediction'] = 'NE'\n",
    "\n",
    "states['Delaware']['prediction'] = delaware_menu.value\n",
    "\n",
    "states['Florida']['prediction'] = 'NE'\n",
    "\n",
    "states['Georgia']['prediction'] = georgia_menu.value\n",
    "\n",
    "states['Hawaii']['prediction'] = 'NE'\n",
    "\n",
    "states['Idaho']['prediction'] = idaho_menu.value\n",
    "\n",
    "states['Illinois']['prediction'] = illinois_menu.value\n",
    "\n",
    "states['Indiana']['prediction'] = 'NE'\n",
    "\n",
    "states['Iowa']['prediction'] = iowa_menu.value\n",
    "\n",
    "states['Kansas']['prediction'] = kansas_menu.value\n",
    "\n",
    "states['Kentucky']['prediction'] = kentucky_menu.value\n",
    "\n",
    "states['Louisiana']['prediction'] = louisiana_menu.value\n",
    "\n",
    "states['Maine']['prediction'] = maine_menu.value\n",
    "\n",
    "states['Maryland']['prediction'] = 'NE'\n",
    "\n",
    "states['Massachusetts']['prediction'] = massachusetts_menu.value\n",
    "\n",
    "states['Michigan']['prediction'] = michigan_menu.value\n",
    "\n",
    "states['Minnesota']['prediction'] = minnesota_menu.value\n",
    "\n",
    "states['Mississippi']['prediction'] = mississippi_menu.value\n",
    "\n",
    "states['Missouri']['prediction'] = 'NE'\n",
    "\n",
    "states['Montana']['prediction'] = montana_menu.value\n",
    "\n",
    "states['Nebraska']['prediction'] = nebraska_menu.value\n",
    "\n",
    "states['Nevada']['prediction'] = 'NE'\n",
    "\n",
    "states['New Hampshire']['prediction'] = new_hampshire_menu.value\n",
    "\n",
    "states['New Jersey']['prediction'] = new_jersey_menu.value\n",
    "\n",
    "states['New Mexico']['prediction'] = new_mexico_menu.value\n",
    "\n",
    "states['New York']['prediction'] = 'NE'\n",
    "\n",
    "states['North Carolina']['prediction'] = north_carolina_menu.value\n",
    "\n",
    "states['North Dakota']['prediction'] = 'NE'\n",
    "\n",
    "states['Ohio']['prediction'] = 'NE'\n",
    "\n",
    "states['Oklahoma']['prediction'] = oklahoma_menu.value\n",
    "\n",
    "states['Oregon']['prediction'] = oregon_menu.value\n",
    "\n",
    "states['Pennsylvania']['prediction'] = 'NE'\n",
    "\n",
    "states['Rhode Island']['prediction'] = rhode_island_menu.value\n",
    "\n",
    "states['South Carolina']['prediction'] = south_carolina_menu.value\n",
    "\n",
    "states['South Dakota']['prediction'] = south_dakota_menu.value\n",
    "\n",
    "states['Tennessee']['prediction'] = tennessee_menu.value\n",
    "\n",
    "states['Texas']['prediction'] = texas_menu.value\n",
    "\n",
    "states['Utah']['prediction'] = 'NE'\n",
    "\n",
    "states['Vermont']['prediction'] = 'NE'\n",
    "\n",
    "states['Virginia']['prediction'] = virginia_menu.value\n",
    "\n",
    "states['Washington']['prediction'] = 'NE'\n",
    "\n",
    "states['District of Columbia']['prediction'] = 'NE'\n",
    "\n",
    "states['West Virginia']['prediction'] = west_virginia_menu.value\n",
    "\n",
    "states['Wisconsin']['prediction'] = 'NE'\n",
    "\n",
    "states['Wyoming']['prediction'] = wyoming_menu.value\n",
    "\n",
    "GA_special = georgia_special_menu.value\n",
    "\n",
    "print('The cell is done, move on to Step 5')"
   ]
  },
  {
   "cell_type": "markdown",
   "metadata": {},
   "source": [
    "### Step 5a: Change the filename if desired\n",
    "\n",
    "In the first line of this cell, change the name of the file your map is saved to.\n",
    "\n",
    "### Step 5b: Run the Cell, and View your Map!"
   ]
  },
  {
   "cell_type": "code",
   "execution_count": 19,
   "metadata": {
    "scrolled": false
   },
   "outputs": [
    {
     "name": "stderr",
     "output_type": "stream",
     "text": [
      "<ipython-input-19-223e2640b946>:27: DeprecationWarning: The background_patch property is deprecated. Use GeoAxes.patch instead.\n",
      "  ax.background_patch.set_visible(False)\n",
      "<ipython-input-19-223e2640b946>:28: DeprecationWarning: The outline_patch property is deprecated. Use GeoAxes.spines['geo'] or the default Axes properties instead.\n",
      "  ax.outline_patch.set_visible(False)\n"
     ]
    },
    {
     "data": {
      "image/png": "[encoded data removed]",
      "text/plain": [
       "<Figure size 1080x720 with 6 Axes>"
      ]
     },
     "metadata": {
      "needs_background": "light"
     },
     "output_type": "display_data"
    }
   ],
   "source": [
    "filename = 'my_2020_senate_map'\n",
    "\n",
    "rcount = 30\n",
    "dcount = 35 #This does include Sanders and King\n",
    "i_demcount = 2 # This counts Sanders and King again, but is just used for plotting purposes\n",
    "i_repcount = 0\n",
    "\n",
    "small_y = 9\n",
    "small_y2 = 9.5\n",
    "small_label = 9.1\n",
    "fig = plt.figure(figsize=(15,10))\n",
    "gs = fig.add_gridspec(5, 5)\n",
    "ax = fig.add_subplot(gs[0:-1,0:-1], projection=ccrs.LambertConformal())\n",
    "axak = fig.add_subplot(gs[3,0], projection=ccrs.LambertConformal())\n",
    "axhi = fig.add_subplot(gs[4,0], projection=ccrs.PlateCarree())\n",
    "axsmall = fig.add_subplot(gs[1:4,-1])\n",
    "axcount = fig.add_subplot(gs[4,2:])\n",
    "axga = fig.add_subplot(gs[4,1], projection=ccrs.LambertConformal())\n",
    "ax.set_extent([-125, -66.5, 20, 50], ccrs.Geodetic())\n",
    "axak.set_extent([-170, -130, 54, 72], ccrs.Geodetic())\n",
    "axhi.set_extent([-160.8,-154.4,18.6,22.7], ccrs.Geodetic())\n",
    "axga.set_extent([-86,-80,30,35.9])\n",
    "shapename = 'admin_1_states_provinces_lakes_shp'\n",
    "states_shp = shpreader.natural_earth(resolution='110m',\n",
    "                                     category='cultural', name=shapename)\n",
    "\n",
    "ax.background_patch.set_visible(False)\n",
    "ax.outline_patch.set_visible(False)\n",
    "\n",
    "ax.set_title('2020 Senate Map')\n",
    "\n",
    "axsmall.set_xlim(0,10)\n",
    "axsmall.set_ylim(0,10)\n",
    "axsmall.axis('off')\n",
    "\n",
    "for astate in shpreader.Reader(states_shp).records():\n",
    "    \n",
    "    edgecolor = 'black'\n",
    "    facecolor = ''\n",
    "    try:\n",
    "        pick = states[ astate.attributes['name'] ]['prediction']\n",
    "    except:\n",
    "        state_dens = 0\n",
    "\n",
    "    if pick == 'Republican':\n",
    "        facecolor = 'red'\n",
    "    elif pick == 'Democrat':\n",
    "        facecolor = 'blue'\n",
    "    elif pick == 'NE':\n",
    "        facecolor = 'lightgray'\n",
    "    elif pick == 'Independent-D' or pick == 'Independent-R':\n",
    "        facecolor = 'purple'\n",
    "    else:\n",
    "        facecolor = 'gray'\n",
    "    \n",
    "    if astate.attributes['name'] == 'Alaska':\n",
    "        axak.add_geometries([astate.geometry], ccrs.PlateCarree(),\n",
    "                      facecolor=facecolor, edgecolor=edgecolor)\n",
    "        axak.text(states[astate.attributes['name']]['Lon'], states[astate.attributes['name']]['Lat'],astate.attributes['name_alt'][0:2], horizontalalignment='left', \n",
    "               transform=ccrs.PlateCarree())\n",
    "    elif astate.attributes['name'] == 'Hawaii':\n",
    "        axhi.add_geometries([astate.geometry], ccrs.PlateCarree(),\n",
    "                      facecolor=facecolor, edgecolor=edgecolor)\n",
    "        axhi.text(states[astate.attributes['name']]['Lon'], states[astate.attributes['name']]['Lat'],astate.attributes['name_alt'][0:2], horizontalalignment='left', \n",
    "               transform=ccrs.PlateCarree())\n",
    "    if astate.attributes['name'] == 'Georgia':\n",
    "        pick1 = GA_special\n",
    "        if pick1 == 'Both':\n",
    "            axga.add_geometries([astate.geometry], ccrs.PlateCarree(),\n",
    "                          facecolor='red', edgecolor='blue',hatch=r'\\\\')\n",
    "        else:\n",
    "            if pick1 == 'Republican':\n",
    "                facecolor1 = 'red'\n",
    "            elif pick1 == 'Democrat':\n",
    "                facecolor1 = 'blue'\n",
    "            elif pick1 == 'NE':\n",
    "                facecolor1 = 'lightgray'\n",
    "            elif pick1 == 'Independent-D' or pick1 == 'Independent-R':\n",
    "                facecolor1 = 'purple'\n",
    "            else:\n",
    "                facecolor1 = 'gray'\n",
    "            axga.add_geometries([astate.geometry], ccrs.PlateCarree(),\n",
    "                          facecolor=facecolor1, edgecolor=edgecolor)\n",
    "        axga.text(states[astate.attributes['name']]['Lon'], states[astate.attributes['name']]['Lat'],astate.attributes['name_alt'][0:2], horizontalalignment='left',\n",
    "               transform=ccrs.PlateCarree())\n",
    "    # `astate.geometry` is the polygon to plot\n",
    "    ax.add_geometries([astate.geometry], ccrs.PlateCarree(),\n",
    "                      facecolor=facecolor, edgecolor=edgecolor)\n",
    "    if astate.attributes['name'] not in small_states and astate.attributes['name'] not in ['Hawaii','Alaska','Pennsylvania','Kentucky']:\n",
    "        ax.text(states[astate.attributes['name']]['Lon'], states[astate.attributes['name']]['Lat'],astate.attributes['name_alt'][0:2], horizontalalignment='left', \n",
    "               transform=ccrs.PlateCarree())\n",
    "    elif astate.attributes['name'] == 'Pennsylvania':\n",
    "        ax.text(states[astate.attributes['name']]['Lon'], states[astate.attributes['name']]['Lat'],astate.attributes['name_alt'][len(astate.attributes['name_alt'])-2:], horizontalalignment='left', \n",
    "               transform=ccrs.PlateCarree())\n",
    "    elif astate.attributes['name'] == 'Kentucky':\n",
    "        ax.text(states[astate.attributes['name']]['Lon'], states[astate.attributes['name']]['Lat'],'KY', horizontalalignment='left', \n",
    "               transform=ccrs.PlateCarree())\n",
    "    \n",
    "    if astate.attributes['name'] in small_states:\n",
    "        if astate.attributes['name'] == 'Massachusetts':\n",
    "            axsmall.fill_betweenx((small_y,small_y2),1,2,color=facecolor)\n",
    "            axsmall.annotate('MA',(2.5,small_label))\n",
    "        elif astate.attributes['name'] == 'Rhode Island':\n",
    "            axsmall.fill_betweenx((small_y,small_y2),1,2,color=facecolor)\n",
    "            axsmall.annotate('RI',(2.5,small_label))\n",
    "        else:\n",
    "            axsmall.fill_betweenx((small_y,small_y2),1,2,color=facecolor)\n",
    "            axsmall.annotate(astate.attributes['name_alt'][0:2],(2.5,small_label))\n",
    "        small_y -= 1\n",
    "        small_y2 -= 1\n",
    "        small_label -= 1\n",
    "        \n",
    "for astate in shpreader.Reader(states_shp).records():\n",
    "    if states[ astate.attributes['name'] ]['prediction'] == 'Republican' or states[ astate.attributes['name'] ]['prediction'] == 'Independent-R':\n",
    "        rcount += 1\n",
    "    elif states[ astate.attributes['name'] ]['prediction'] == 'Democrat' or states[ astate.attributes['name'] ]['prediction'] == 'Independent-D':\n",
    "        dcount += 1\n",
    "        \n",
    "if GA_special == 'Democrat' or GA_special == 'Independent-D':\n",
    "    dcount += 1\n",
    "elif GA_special == 'Republican' or GA_special == 'Independent-R':\n",
    "    rcount += 1\n",
    "\n",
    "axcount.fill_betweenx((0,0.5),0,i_demcount,color='purple')\n",
    "axcount.fill_betweenx((0,0.5),i_demcount,dcount,color='blue')\n",
    "axcount.fill_betweenx((0,0.5),100-i_repcount,100,color='purple')\n",
    "axcount.fill_betweenx((0,0.5),100-rcount,100-i_repcount,color='red')\n",
    "\n",
    "axcount.set_xlim(0,100)\n",
    "axcount.vlines(50,0,0.5)\n",
    "axcount.text(0,.55,str(dcount),color='blue',fontsize=18)\n",
    "axcount.text(95,.55,str(rcount),color='red',fontsize = 18)\n",
    "axcount.axis('off')\n",
    "axcount.set_title('Seat Distribution')    \n",
    "    \n",
    "axsmall.fill_betweenx((9,9.5),8,9,color='red')\n",
    "axsmall.annotate('Republican',(9.5,9.1))\n",
    "axsmall.fill_betweenx((8,8.5),8,9,color='blue')\n",
    "axsmall.annotate('Democrat',(9.5,8.1))\n",
    "axsmall.fill_betweenx((7,7.5),8,9,color='purple')\n",
    "axsmall.annotate('Independent',(9.5,7.1))\n",
    "axsmall.fill_betweenx((6,6.5),8,9,facecolor='red',edgecolor='blue',hatch='r\\\\')\n",
    "axsmall.annotate('Two Party Runoff',(9.5,6.1))\n",
    "\n",
    "axsmall.fill_betweenx((5,5.5),8,9,color='gray')\n",
    "axsmall.annotate('Prediction TBD',(9.5,5.1))\n",
    "axsmall.fill_betweenx((4,4.5),8,9,color='lightgrey')\n",
    "axsmall.annotate('No Election',(9.5,4.1))\n",
    "axga.set_title('Georgia Special Election')\n",
    "plt.savefig(filename)\n",
    "plt.show()"
   ]
  },
  {
   "cell_type": "markdown",
   "metadata": {},
   "source": [
    "### Step 6: Save your file\n",
    "\n",
    "To get to this page, you first were sent to a Jupyter Home Page, and you clicked on the Senate Map and this page opened in a new tab. Go back to the tab with the Home Page and you will see your new map file, click on it, and download to your device so you can keep your map as long as you wish.\n",
    "\n",
    "If you cannot find the Home Page, right-click on the Jupyter logo and open it in a new tab. You should be able to locate your new file there.\n",
    "\n",
    "You are encouraged to post your map here: https://www.electionperfection.org/forum"
   ]
  }
 ],
 "metadata": {
  "kernelspec": {
   "display_name": "Python 3",
   "language": "python",
   "name": "python3"
  },
  "language_info": {
   "codemirror_mode": {
    "name": "ipython",
    "version": 3
   },
   "file_extension": ".py",
   "mimetype": "text/x-python",
   "name": "python",
   "nbconvert_exporter": "python",
   "pygments_lexer": "ipython3",
   "version": "3.8.2"
  }
 },
 "nbformat": 4,
 "nbformat_minor": 2
}
