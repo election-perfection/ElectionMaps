{
 "cells": [
  {
   "cell_type": "markdown",
   "metadata": {},
   "source": [
    "# Make your 2020 Presidential Map\n",
    "\n",
    "### Step by Step instructions are provided, this code may seem complicated, but you don't need to understand it to make your own map. Someone with zero coding experience can still make one of our maps!\n",
    "\n",
    "Note: By changing this code, it will not change for other users, so don't worry about that. If you mess something up, you can go to this link to start over with the original code: https://mybinder.org/v2/gh/election-perfection/ElectionMaps/master\n",
    "\n",
    "by https://electionperfection.org"
   ]
  },
  {
   "cell_type": "markdown",
   "metadata": {},
   "source": [
    "### Step 1: Run this Cell, don't change anything inside. This cell will generate ALOT of output, that's normal. It will tell you to move onto Step 2 when it is complete. This cell may take a minute or so to complete.\n",
    "\n",
    "How to run a cell: Option 1: click the cell and click the button that looks like this: '>| Run' at the top. Option 2: hit the black button that's next to the cell. Either one works and can be used interchangeably."
   ]
  },
  {
   "cell_type": "code",
   "execution_count": 1,
   "metadata": {},
   "outputs": [
    {
     "name": "stdout",
     "output_type": "stream",
     "text": [
      "Step 1 is complete, move on to Step 2\n"
     ]
    }
   ],
   "source": [
    "!pip install matplotlib\n",
    "!pip install numpy\n",
    "!conda install -c conda-forge cartopy --yes\n",
    "!pip install ipywidgets\n",
    "\n",
    "\n",
    "import matplotlib.pyplot as plt\n",
    "import cartopy.crs as ccrs\n",
    "import cartopy.io.shapereader as shpreader\n",
    "import numpy as np\n",
    "import matplotlib.gridspec as gridspec\n",
    "import ipywidgets as widgets\n",
    "\n",
    "small_states = ['Vermont','New Hampshire','New Jersey','Delaware','Rhode Island','Massachusetts','Connecticut','District of Columbia','Maryland']\n",
    "print('Step 1 is complete, move on to Step 2')"
   ]
  },
  {
   "cell_type": "markdown",
   "metadata": {},
   "source": [
    "### Step 2: Run this Cell, don't change anything inside."
   ]
  },
  {
   "cell_type": "code",
   "execution_count": 2,
   "metadata": {},
   "outputs": [
    {
     "name": "stdout",
     "output_type": "stream",
     "text": [
      "Move onto Step 3\n"
     ]
    }
   ],
   "source": [
    "states = {\n",
    "    'Alabama':{'Lat':32.806671,'Lon':-86.791130-.5,'EV':9},\n",
    "    'Alaska':{'Lat':61.370716+2,'Lon':-152.404419,'EV':3},\n",
    "    'Arizona':{'Lat':33.729759,'Lon':-111.431221-1,'EV':11},\n",
    "    'Arkansas':{'Lat':34.969704-0.5,'Lon':-92.373123-1,'EV':6},\n",
    "    'California':{'Lat':36.116203,'Lon':-119.681564-0.5,'EV':55},\n",
    "    'Colorado':{'Lat':39.059811-.5,'Lon':-105.311104-1,'EV':9},\n",
    "    'Connecticut':{'Lat':41.597782,'Lon':-72.755371,'EV':7},\n",
    "    'Delaware':{'Lat':39.318523,'Lon':-75.507141,'EV':3},\n",
    "    'District of Columbia':{'Lat':38.897438,'Lon':-77.026817,'EV':3},\n",
    "    'Florida':{'Lat':27.766279,'Lon':-81.686783-.9,'EV':29},\n",
    "    'Georgia':{'Lat':33.040619-.5,'Lon':-83.643074-1,'EV':16},\n",
    "    'Hawaii':{'Lat':21.094318,'Lon':-157.498337+1,'EV':4},\n",
    "    'Idaho':{'Lat':44.240459-0.3,'Lon':-114.478828-1,'EV':4},\n",
    "    'Illinois':{'Lat':40.349457-.5,'Lon':-88.986137-1,'EV':20},\n",
    "    'Indiana':{'Lat':39.849426-0.4,'Lon':-86.258278-1,'EV':11},\n",
    "    'Iowa':{'Lat':42.011539-0.5,'Lon':-93.210526-1, 'EV':6},\n",
    "    'Kansas':{'Lat':38.526600-0.8,'Lon':-96.726486-2, 'EV':6},\n",
    "    'Kentucky':{'Lat':37.668140-.4,'Lon':-84.670067-1.5,'EV':8},\n",
    "    'Louisiana':{'Lat':31.169546-0.2,'Lon':-91.867805-1.5,'EV':8},\n",
    "    'Maine':{'Lat':44.693947,'Lon':-69.381927-1,'EV':4},\n",
    "    'Maryland':{'Lat':39.063946,'Lon':-76.802101,'EV':10},\n",
    "    'Massachusetts':{'Lat':42.230171,'Lon':-71.530106,'EV':11},\n",
    "    'Michigan':{'Lat':43.326618-0.5,'Lon':-84.536095-1.2,'EV':16},\n",
    "    'Minnesota':{'Lat':45.694454,'Lon':-93.900192-2,'EV':10},\n",
    "    'Mississippi':{'Lat':32.741646,'Lon':-89.678696-.5,'EV':6},\n",
    "    'Missouri':{'Lat':38.456085-0.5,'Lon':-92.288368-1.5,'EV':10},\n",
    "    'Montana':{'Lat':46.921925-0.5,'Lon':-110.454353,'EV':3},\n",
    "    'Nebraska':{'Lat':41.125370-0.5,'Lon':-98.268082-2,'EV':5},\n",
    "    'Nevada':{'Lat':38.313515,'Lon':-117.055374,'EV':6},\n",
    "    'New Hampshire':{'Lat':43.452492,'Lon':-71.563896,'EV':4},\n",
    "    'New Jersey':{'Lat':40.298904,'Lon':-74.521011,'EV':14},\n",
    "    'New Mexico':{'Lat':34.840515-1,'Lon':-106.248482-.5,'EV':5},\n",
    "    'New York':{'Lat':42.165726+0.5,'Lon':-74.948051-1,'EV':29},\n",
    "    'North Carolina':{'Lat':35.630066-0.8,'Lon':-79.806419+0.3,'EV':15},\n",
    "    'North Dakota':{'Lat':47.528912-0.8,'Lon':-99.784012-1,'EV':3},\n",
    "    'Ohio':{'Lat':40.388783-.7,'Lon':-82.764915-1.2,'EV':18},\n",
    "    'Oklahoma':{'Lat':35.565342-0.7,'Lon':-96.928917-1.5,'EV':7},\n",
    "    'Oregon':{'Lat':44.572021-1.3,'Lon':-122.070938+1,'EV':7},\n",
    "    'Pennsylvania':{'Lat':40.590752+0.3,'Lon':-77.209755-2.5,'EV':20},\n",
    "    'Rhode Island':{'Lat':41.680893,'Lon':-71.511780,'EV':4},\n",
    "    'South Carolina':{'Lat':33.856892-0.9,'Lon':-80.945007-0.5,'EV':9},\n",
    "    'South Dakota':{'Lat':44.299782-0.5,'Lon':-99.438828-1,'EV':3},\n",
    "    'Tennessee':{'Lat':35.747845-.1,'Lon':-86.692345-1.6,'EV':11},\n",
    "    'Texas':{'Lat':31.054487,'Lon':-97.563461-2,'EV':38},\n",
    "    'Utah':{'Lat':40.150032-1.5,'Lon':-111.862434,'EV':6},\n",
    "    'Vermont':{'Lat':44.045876,'Lon':-72.710686,'EV':3},\n",
    "    'Virginia':{'Lat':37.769337-.5,'Lon':-78.169968-1,'EV':13},\n",
    "    'Washington':{'Lat':47.400902-.6,'Lon':-121.490494,'EV':12},\n",
    "    'West Virginia':{'Lat':38.491226-.7,'Lon':-80.954453-.6,'EV':5},\n",
    "    'Wisconsin':{'Lat':44.268543-0.2,'Lon':-89.616508-1,'EV':10},\n",
    "    'Wyoming':{'Lat':42.755966-0.5,'Lon':-107.302490-1,'EV':3}}\n",
    "\n",
    "print('Move onto Step 3')"
   ]
  },
  {
   "cell_type": "markdown",
   "metadata": {},
   "source": [
    "### Step 3: Run the cell, then Enter your predictions in the dropdown menus.\n",
    "\n",
    "#### Instructions\n",
    "Select Democrat, Republican, or TBD if you wish to leave the state undecided.\n",
    "\n",
    "#### DO NOT RERUN the cell once you make your selections or you will lose them\n",
    "Once you have made your selections proceed to the next cell. \n",
    "To change your predictions later on in this session, you only need to change the dropdown menus here, then rerun the following cells, you never have to rerun this particular cell to adopt the change. \n",
    "\n",
    "Once you leave this page your changes will disapear, so make sure you follow the instructions to save your map at the end in Step 6."
   ]
  },
  {
   "cell_type": "code",
   "execution_count": 9,
   "metadata": {},
   "outputs": [
    {
     "data": {
      "application/vnd.jupyter.widget-view+json": {
       "model_id": "a7d5c59e6dca4f18b30d87b0c093c2b6",
       "version_major": 2,
       "version_minor": 0
      },
      "text/plain": [
       "Dropdown(description='Alabama', index=2, options=('Democrat', 'Republican', 'TBD'), value='TBD')"
      ]
     },
     "metadata": {},
     "output_type": "display_data"
    },
    {
     "data": {
      "application/vnd.jupyter.widget-view+json": {
       "model_id": "6f846cc123554ca6aafb4b0eef1b2895",
       "version_major": 2,
       "version_minor": 0
      },
      "text/plain": [
       "Dropdown(description='Alaska', index=2, options=('Democrat', 'Republican', 'TBD'), value='TBD')"
      ]
     },
     "metadata": {},
     "output_type": "display_data"
    },
    {
     "data": {
      "application/vnd.jupyter.widget-view+json": {
       "model_id": "bd6916a3f14a4d199cd7684b6d9f16f8",
       "version_major": 2,
       "version_minor": 0
      },
      "text/plain": [
       "Dropdown(description='Arizona', index=2, options=('Democrat', 'Republican', 'TBD'), value='TBD')"
      ]
     },
     "metadata": {},
     "output_type": "display_data"
    },
    {
     "data": {
      "application/vnd.jupyter.widget-view+json": {
       "model_id": "1f37678995f84efd86f3b8f7898fdb48",
       "version_major": 2,
       "version_minor": 0
      },
      "text/plain": [
       "Dropdown(description='Arkansas', index=2, options=('Democrat', 'Republican', 'TBD'), value='TBD')"
      ]
     },
     "metadata": {},
     "output_type": "display_data"
    },
    {
     "data": {
      "application/vnd.jupyter.widget-view+json": {
       "model_id": "70a0f222a1214acda0882a5eadaab3f6",
       "version_major": 2,
       "version_minor": 0
      },
      "text/plain": [
       "Dropdown(description='California', index=2, options=('Democrat', 'Republican', 'TBD'), value='TBD')"
      ]
     },
     "metadata": {},
     "output_type": "display_data"
    },
    {
     "data": {
      "application/vnd.jupyter.widget-view+json": {
       "model_id": "c7b8ee1d9c234d39a01c22f404ab21c1",
       "version_major": 2,
       "version_minor": 0
      },
      "text/plain": [
       "Dropdown(description='Colorado', index=2, options=('Democrat', 'Republican', 'TBD'), value='TBD')"
      ]
     },
     "metadata": {},
     "output_type": "display_data"
    },
    {
     "data": {
      "application/vnd.jupyter.widget-view+json": {
       "model_id": "65f6f5999a3b483d8a981533a22c9a3d",
       "version_major": 2,
       "version_minor": 0
      },
      "text/plain": [
       "Dropdown(description='Connecticut', index=2, options=('Democrat', 'Republican', 'TBD'), value='TBD')"
      ]
     },
     "metadata": {},
     "output_type": "display_data"
    },
    {
     "data": {
      "application/vnd.jupyter.widget-view+json": {
       "model_id": "a1e53b85c3784c30bdb3fd2c7b76741d",
       "version_major": 2,
       "version_minor": 0
      },
      "text/plain": [
       "Dropdown(description='Delaware', index=2, options=('Democrat', 'Republican', 'TBD'), value='TBD')"
      ]
     },
     "metadata": {},
     "output_type": "display_data"
    },
    {
     "data": {
      "application/vnd.jupyter.widget-view+json": {
       "model_id": "c39ed0be248e4df5b9ab090a0dae9626",
       "version_major": 2,
       "version_minor": 0
      },
      "text/plain": [
       "Dropdown(description='Florida', index=2, options=('Democrat', 'Republican', 'TBD'), value='TBD')"
      ]
     },
     "metadata": {},
     "output_type": "display_data"
    },
    {
     "data": {
      "application/vnd.jupyter.widget-view+json": {
       "model_id": "c012835ee575420a9713987c149ae3b6",
       "version_major": 2,
       "version_minor": 0
      },
      "text/plain": [
       "Dropdown(description='Georgia', index=2, options=('Democrat', 'Republican', 'TBD'), value='TBD')"
      ]
     },
     "metadata": {},
     "output_type": "display_data"
    },
    {
     "data": {
      "application/vnd.jupyter.widget-view+json": {
       "model_id": "baa578df64314668b43c1b99f42d3ac5",
       "version_major": 2,
       "version_minor": 0
      },
      "text/plain": [
       "Dropdown(description='Hawaii', index=2, options=('Democrat', 'Republican', 'TBD'), value='TBD')"
      ]
     },
     "metadata": {},
     "output_type": "display_data"
    },
    {
     "data": {
      "application/vnd.jupyter.widget-view+json": {
       "model_id": "2c224dd4216b4859a2f68d747372f555",
       "version_major": 2,
       "version_minor": 0
      },
      "text/plain": [
       "Dropdown(description='Idaho', index=2, options=('Democrat', 'Republican', 'TBD'), value='TBD')"
      ]
     },
     "metadata": {},
     "output_type": "display_data"
    },
    {
     "data": {
      "application/vnd.jupyter.widget-view+json": {
       "model_id": "f1f7384171ad4ad688ef95d385b314c9",
       "version_major": 2,
       "version_minor": 0
      },
      "text/plain": [
       "Dropdown(description='Illinois', index=2, options=('Democrat', 'Republican', 'TBD'), value='TBD')"
      ]
     },
     "metadata": {},
     "output_type": "display_data"
    },
    {
     "data": {
      "application/vnd.jupyter.widget-view+json": {
       "model_id": "4207b1cf4f90425c9736628b008f8fef",
       "version_major": 2,
       "version_minor": 0
      },
      "text/plain": [
       "Dropdown(description='Indiana', index=2, options=('Democrat', 'Republican', 'TBD'), value='TBD')"
      ]
     },
     "metadata": {},
     "output_type": "display_data"
    },
    {
     "data": {
      "application/vnd.jupyter.widget-view+json": {
       "model_id": "85521311591141f69c449818db17aadb",
       "version_major": 2,
       "version_minor": 0
      },
      "text/plain": [
       "Dropdown(description='Iowa', index=2, options=('Democrat', 'Republican', 'TBD'), value='TBD')"
      ]
     },
     "metadata": {},
     "output_type": "display_data"
    },
    {
     "data": {
      "application/vnd.jupyter.widget-view+json": {
       "model_id": "582cc88cc2524eab8a9a44cc2536208c",
       "version_major": 2,
       "version_minor": 0
      },
      "text/plain": [
       "Dropdown(description='Kansas', index=2, options=('Democrat', 'Republican', 'TBD'), value='TBD')"
      ]
     },
     "metadata": {},
     "output_type": "display_data"
    },
    {
     "data": {
      "application/vnd.jupyter.widget-view+json": {
       "model_id": "1c09732e54e449e19d3c36744e7e8634",
       "version_major": 2,
       "version_minor": 0
      },
      "text/plain": [
       "Dropdown(description='Kentucky', index=2, options=('Democrat', 'Republican', 'TBD'), value='TBD')"
      ]
     },
     "metadata": {},
     "output_type": "display_data"
    },
    {
     "data": {
      "application/vnd.jupyter.widget-view+json": {
       "model_id": "c23a59477bf7408d94fde6ab4b9f67c4",
       "version_major": 2,
       "version_minor": 0
      },
      "text/plain": [
       "Dropdown(description='Louisiana', index=2, options=('Democrat', 'Republican', 'TBD'), value='TBD')"
      ]
     },
     "metadata": {},
     "output_type": "display_data"
    },
    {
     "data": {
      "application/vnd.jupyter.widget-view+json": {
       "model_id": "f9a5294da38d40429af780623bf44283",
       "version_major": 2,
       "version_minor": 0
      },
      "text/plain": [
       "Dropdown(description='Maine Popular', index=2, options=('Democrat', 'Republican', 'TBD'), value='TBD')"
      ]
     },
     "metadata": {},
     "output_type": "display_data"
    },
    {
     "data": {
      "application/vnd.jupyter.widget-view+json": {
       "model_id": "1a92c459ab3c4213b3b6ddfc602e3ef2",
       "version_major": 2,
       "version_minor": 0
      },
      "text/plain": [
       "Dropdown(description='ME-01', index=2, options=('Democrat', 'Republican', 'TBD'), value='TBD')"
      ]
     },
     "metadata": {},
     "output_type": "display_data"
    },
    {
     "data": {
      "application/vnd.jupyter.widget-view+json": {
       "model_id": "8b99a437b5b145889a7c53c2d2c8279c",
       "version_major": 2,
       "version_minor": 0
      },
      "text/plain": [
       "Dropdown(description='ME-02', index=2, options=('Democrat', 'Republican', 'TBD'), value='TBD')"
      ]
     },
     "metadata": {},
     "output_type": "display_data"
    },
    {
     "data": {
      "application/vnd.jupyter.widget-view+json": {
       "model_id": "b0ab0ef9f9c84e6985dbca2b68b2acf4",
       "version_major": 2,
       "version_minor": 0
      },
      "text/plain": [
       "Dropdown(description='Maryland', index=2, options=('Democrat', 'Republican', 'TBD'), value='TBD')"
      ]
     },
     "metadata": {},
     "output_type": "display_data"
    },
    {
     "data": {
      "application/vnd.jupyter.widget-view+json": {
       "model_id": "2290206ca8a341078b6694bf53634113",
       "version_major": 2,
       "version_minor": 0
      },
      "text/plain": [
       "Dropdown(description='Massachusetts', index=2, options=('Democrat', 'Republican', 'TBD'), value='TBD')"
      ]
     },
     "metadata": {},
     "output_type": "display_data"
    },
    {
     "data": {
      "application/vnd.jupyter.widget-view+json": {
       "model_id": "1a54fa0f35664de0a327b7ca44adcb64",
       "version_major": 2,
       "version_minor": 0
      },
      "text/plain": [
       "Dropdown(description='Michigan', index=2, options=('Democrat', 'Republican', 'TBD'), value='TBD')"
      ]
     },
     "metadata": {},
     "output_type": "display_data"
    },
    {
     "data": {
      "application/vnd.jupyter.widget-view+json": {
       "model_id": "a74703d7c0204ace89b5e2b163d68f76",
       "version_major": 2,
       "version_minor": 0
      },
      "text/plain": [
       "Dropdown(description='Minnesota', index=2, options=('Democrat', 'Republican', 'TBD'), value='TBD')"
      ]
     },
     "metadata": {},
     "output_type": "display_data"
    },
    {
     "data": {
      "application/vnd.jupyter.widget-view+json": {
       "model_id": "72d10c9fcc1f4235aac3b974823cc98e",
       "version_major": 2,
       "version_minor": 0
      },
      "text/plain": [
       "Dropdown(description='Mississippi', index=2, options=('Democrat', 'Republican', 'TBD'), value='TBD')"
      ]
     },
     "metadata": {},
     "output_type": "display_data"
    },
    {
     "data": {
      "application/vnd.jupyter.widget-view+json": {
       "model_id": "cfd6b6fe7fb0474aac83f574c9c41b5c",
       "version_major": 2,
       "version_minor": 0
      },
      "text/plain": [
       "Dropdown(description='Missouri', index=2, options=('Democrat', 'Republican', 'TBD'), value='TBD')"
      ]
     },
     "metadata": {},
     "output_type": "display_data"
    },
    {
     "data": {
      "application/vnd.jupyter.widget-view+json": {
       "model_id": "807fa0dc3ef749fb999d07aaab48bdc3",
       "version_major": 2,
       "version_minor": 0
      },
      "text/plain": [
       "Dropdown(description='Montana', index=2, options=('Democrat', 'Republican', 'TBD'), value='TBD')"
      ]
     },
     "metadata": {},
     "output_type": "display_data"
    },
    {
     "data": {
      "application/vnd.jupyter.widget-view+json": {
       "model_id": "b8891ae57633422ab726d5669893aa3e",
       "version_major": 2,
       "version_minor": 0
      },
      "text/plain": [
       "Dropdown(description='Nebraska Popular', index=2, options=('Democrat', 'Republican', 'TBD'), value='TBD')"
      ]
     },
     "metadata": {},
     "output_type": "display_data"
    },
    {
     "data": {
      "application/vnd.jupyter.widget-view+json": {
       "model_id": "9a026d7848dc47ae939c7a581520ba89",
       "version_major": 2,
       "version_minor": 0
      },
      "text/plain": [
       "Dropdown(description='NE-01', index=2, options=('Democrat', 'Republican', 'TBD'), value='TBD')"
      ]
     },
     "metadata": {},
     "output_type": "display_data"
    },
    {
     "data": {
      "application/vnd.jupyter.widget-view+json": {
       "model_id": "aea39de4bc0849abb94ff99fcea0d5b9",
       "version_major": 2,
       "version_minor": 0
      },
      "text/plain": [
       "Dropdown(description='NE-02', index=2, options=('Democrat', 'Republican', 'TBD'), value='TBD')"
      ]
     },
     "metadata": {},
     "output_type": "display_data"
    },
    {
     "data": {
      "application/vnd.jupyter.widget-view+json": {
       "model_id": "a6a7090f14a749d08e52baf3d54d5b66",
       "version_major": 2,
       "version_minor": 0
      },
      "text/plain": [
       "Dropdown(description='NE-03', index=2, options=('Democrat', 'Republican', 'TBD'), value='TBD')"
      ]
     },
     "metadata": {},
     "output_type": "display_data"
    },
    {
     "data": {
      "application/vnd.jupyter.widget-view+json": {
       "model_id": "5e0eb76d8afb4f219b741c9f6c9a5499",
       "version_major": 2,
       "version_minor": 0
      },
      "text/plain": [
       "Dropdown(description='Nevada', index=2, options=('Democrat', 'Republican', 'TBD'), value='TBD')"
      ]
     },
     "metadata": {},
     "output_type": "display_data"
    },
    {
     "data": {
      "application/vnd.jupyter.widget-view+json": {
       "model_id": "3d25f77c753546a2b23c4649e688ab89",
       "version_major": 2,
       "version_minor": 0
      },
      "text/plain": [
       "Dropdown(description='New Hampshire', index=2, options=('Democrat', 'Republican', 'TBD'), value='TBD')"
      ]
     },
     "metadata": {},
     "output_type": "display_data"
    },
    {
     "data": {
      "application/vnd.jupyter.widget-view+json": {
       "model_id": "58ef273615464debabd9411e37b043e8",
       "version_major": 2,
       "version_minor": 0
      },
      "text/plain": [
       "Dropdown(description='New Jersey', index=2, options=('Democrat', 'Republican', 'TBD'), value='TBD')"
      ]
     },
     "metadata": {},
     "output_type": "display_data"
    },
    {
     "data": {
      "application/vnd.jupyter.widget-view+json": {
       "model_id": "f44035da169945d1b5b85926718fd184",
       "version_major": 2,
       "version_minor": 0
      },
      "text/plain": [
       "Dropdown(description='New Mexico', index=2, options=('Democrat', 'Republican', 'TBD'), value='TBD')"
      ]
     },
     "metadata": {},
     "output_type": "display_data"
    },
    {
     "data": {
      "application/vnd.jupyter.widget-view+json": {
       "model_id": "610a0209619a409daaffc27c9ff06b16",
       "version_major": 2,
       "version_minor": 0
      },
      "text/plain": [
       "Dropdown(description='New York', index=2, options=('Democrat', 'Republican', 'TBD'), value='TBD')"
      ]
     },
     "metadata": {},
     "output_type": "display_data"
    },
    {
     "data": {
      "application/vnd.jupyter.widget-view+json": {
       "model_id": "0b6d18d6d3ae432595d6783562a933d0",
       "version_major": 2,
       "version_minor": 0
      },
      "text/plain": [
       "Dropdown(description='North Carolina', index=2, options=('Democrat', 'Republican', 'TBD'), value='TBD')"
      ]
     },
     "metadata": {},
     "output_type": "display_data"
    },
    {
     "data": {
      "application/vnd.jupyter.widget-view+json": {
       "model_id": "4826f95c2e1a492086d20b3e18604889",
       "version_major": 2,
       "version_minor": 0
      },
      "text/plain": [
       "Dropdown(description='North Dakota', index=2, options=('Democrat', 'Republican', 'TBD'), value='TBD')"
      ]
     },
     "metadata": {},
     "output_type": "display_data"
    },
    {
     "data": {
      "application/vnd.jupyter.widget-view+json": {
       "model_id": "67292967516a4e588b67792ec2319468",
       "version_major": 2,
       "version_minor": 0
      },
      "text/plain": [
       "Dropdown(description='Ohio', index=2, options=('Democrat', 'Republican', 'TBD'), value='TBD')"
      ]
     },
     "metadata": {},
     "output_type": "display_data"
    },
    {
     "data": {
      "application/vnd.jupyter.widget-view+json": {
       "model_id": "f4d12b6fcf1e4627bc4bd8668ad2b324",
       "version_major": 2,
       "version_minor": 0
      },
      "text/plain": [
       "Dropdown(description='Oklahoma', index=2, options=('Democrat', 'Republican', 'TBD'), value='TBD')"
      ]
     },
     "metadata": {},
     "output_type": "display_data"
    },
    {
     "data": {
      "application/vnd.jupyter.widget-view+json": {
       "model_id": "138f955140bd46b895e81abe643006bc",
       "version_major": 2,
       "version_minor": 0
      },
      "text/plain": [
       "Dropdown(description='Oregon', index=2, options=('Democrat', 'Republican', 'TBD'), value='TBD')"
      ]
     },
     "metadata": {},
     "output_type": "display_data"
    },
    {
     "data": {
      "application/vnd.jupyter.widget-view+json": {
       "model_id": "a17c77941baf4e11a04985f7b3bae98b",
       "version_major": 2,
       "version_minor": 0
      },
      "text/plain": [
       "Dropdown(description='Pennsylvania', index=2, options=('Democrat', 'Republican', 'TBD'), value='TBD')"
      ]
     },
     "metadata": {},
     "output_type": "display_data"
    },
    {
     "data": {
      "application/vnd.jupyter.widget-view+json": {
       "model_id": "4bf78082d0994c34a6b7e5e3c513b4ee",
       "version_major": 2,
       "version_minor": 0
      },
      "text/plain": [
       "Dropdown(description='Rhode Island', index=2, options=('Democrat', 'Republican', 'TBD'), value='TBD')"
      ]
     },
     "metadata": {},
     "output_type": "display_data"
    },
    {
     "data": {
      "application/vnd.jupyter.widget-view+json": {
       "model_id": "70ec69acc03f435b81803bfe3e9539eb",
       "version_major": 2,
       "version_minor": 0
      },
      "text/plain": [
       "Dropdown(description='South Carolina', index=2, options=('Democrat', 'Republican', 'TBD'), value='TBD')"
      ]
     },
     "metadata": {},
     "output_type": "display_data"
    },
    {
     "data": {
      "application/vnd.jupyter.widget-view+json": {
       "model_id": "2b9d3dd7ba6449c197867cf1f901c61c",
       "version_major": 2,
       "version_minor": 0
      },
      "text/plain": [
       "Dropdown(description='South Dakota', index=2, options=('Democrat', 'Republican', 'TBD'), value='TBD')"
      ]
     },
     "metadata": {},
     "output_type": "display_data"
    },
    {
     "data": {
      "application/vnd.jupyter.widget-view+json": {
       "model_id": "2378ad301f5b45509c28265f341f5e20",
       "version_major": 2,
       "version_minor": 0
      },
      "text/plain": [
       "Dropdown(description='Tennessee', index=2, options=('Democrat', 'Republican', 'TBD'), value='TBD')"
      ]
     },
     "metadata": {},
     "output_type": "display_data"
    },
    {
     "data": {
      "application/vnd.jupyter.widget-view+json": {
       "model_id": "f7564375ef534437bb71dcc5545dfee2",
       "version_major": 2,
       "version_minor": 0
      },
      "text/plain": [
       "Dropdown(description='Texas', index=2, options=('Democrat', 'Republican', 'TBD'), value='TBD')"
      ]
     },
     "metadata": {},
     "output_type": "display_data"
    },
    {
     "data": {
      "application/vnd.jupyter.widget-view+json": {
       "model_id": "1a87a491b6ce48bd9f073b658f942df5",
       "version_major": 2,
       "version_minor": 0
      },
      "text/plain": [
       "Dropdown(description='Utah', index=2, options=('Democrat', 'Republican', 'TBD'), value='TBD')"
      ]
     },
     "metadata": {},
     "output_type": "display_data"
    },
    {
     "data": {
      "application/vnd.jupyter.widget-view+json": {
       "model_id": "f1479da13f274640a6a60a47d346e4ec",
       "version_major": 2,
       "version_minor": 0
      },
      "text/plain": [
       "Dropdown(description='Vermont', index=2, options=('Democrat', 'Republican', 'TBD'), value='TBD')"
      ]
     },
     "metadata": {},
     "output_type": "display_data"
    },
    {
     "data": {
      "application/vnd.jupyter.widget-view+json": {
       "model_id": "1cdb7f43db174faa9fb912b48a4a6d52",
       "version_major": 2,
       "version_minor": 0
      },
      "text/plain": [
       "Dropdown(description='Virginia', index=2, options=('Democrat', 'Republican', 'TBD'), value='TBD')"
      ]
     },
     "metadata": {},
     "output_type": "display_data"
    },
    {
     "data": {
      "application/vnd.jupyter.widget-view+json": {
       "model_id": "2a0974ad2b6c4f2ea72177297927ab76",
       "version_major": 2,
       "version_minor": 0
      },
      "text/plain": [
       "Dropdown(description='Washington', index=2, options=('Democrat', 'Republican', 'TBD'), value='TBD')"
      ]
     },
     "metadata": {},
     "output_type": "display_data"
    },
    {
     "data": {
      "application/vnd.jupyter.widget-view+json": {
       "model_id": "c325f807a3a84e6b8559b8072dac047a",
       "version_major": 2,
       "version_minor": 0
      },
      "text/plain": [
       "Dropdown(description='Washington DC', index=2, options=('Democrat', 'Republican', 'TBD'), value='TBD')"
      ]
     },
     "metadata": {},
     "output_type": "display_data"
    },
    {
     "data": {
      "application/vnd.jupyter.widget-view+json": {
       "model_id": "67ffc357496648eabb60068d59db3483",
       "version_major": 2,
       "version_minor": 0
      },
      "text/plain": [
       "Dropdown(description='West Virginia', index=2, options=('Democrat', 'Republican', 'TBD'), value='TBD')"
      ]
     },
     "metadata": {},
     "output_type": "display_data"
    },
    {
     "data": {
      "application/vnd.jupyter.widget-view+json": {
       "model_id": "c5d053db0a454e78a40c16f36e877b98",
       "version_major": 2,
       "version_minor": 0
      },
      "text/plain": [
       "Dropdown(description='Wisconsin', index=2, options=('Democrat', 'Republican', 'TBD'), value='TBD')"
      ]
     },
     "metadata": {},
     "output_type": "display_data"
    },
    {
     "data": {
      "application/vnd.jupyter.widget-view+json": {
       "model_id": "ba6414a2b3a841fdbb6d05886a28ddf1",
       "version_major": 2,
       "version_minor": 0
      },
      "text/plain": [
       "Dropdown(description='Wyoming', index=2, options=('Democrat', 'Republican', 'TBD'), value='TBD')"
      ]
     },
     "metadata": {},
     "output_type": "display_data"
    }
   ],
   "source": [
    "alabama_menu = widgets.Dropdown(options=['Democrat', 'Republican', 'TBD'],\n",
    "    value='TBD',description='Alabama')\n",
    "display(alabama_menu)\n",
    "\n",
    "alaska_menu = widgets.Dropdown(options=['Democrat', 'Republican', 'TBD'],\n",
    "    value='TBD',description='Alaska')\n",
    "display(alaska_menu)\n",
    "\n",
    "arizona_menu = widgets.Dropdown(options=['Democrat', 'Republican', 'TBD'],\n",
    "    value='TBD',description='Arizona')\n",
    "display(arizona_menu)\n",
    "\n",
    "arkansas_menu = widgets.Dropdown(options=['Democrat', 'Republican', 'TBD'],\n",
    "    value='TBD',description='Arkansas')\n",
    "display(arkansas_menu)\n",
    "\n",
    "california_menu = widgets.Dropdown(options=['Democrat', 'Republican', 'TBD'],\n",
    "    value='TBD',description='California')\n",
    "display(california_menu)\n",
    "\n",
    "colorado_menu = widgets.Dropdown(options=['Democrat', 'Republican', 'TBD'],\n",
    "    value='TBD',description='Colorado')\n",
    "display(colorado_menu)\n",
    "\n",
    "connecticut_menu = widgets.Dropdown(options=['Democrat', 'Republican', 'TBD'],\n",
    "    value='TBD',description='Connecticut')\n",
    "display(connecticut_menu)\n",
    "\n",
    "delaware_menu = widgets.Dropdown(options=['Democrat', 'Republican', 'TBD'],\n",
    "    value='TBD',description='Delaware')\n",
    "display(delaware_menu)\n",
    "\n",
    "florida_menu = widgets.Dropdown(options=['Democrat', 'Republican', 'TBD'],\n",
    "    value='TBD',description='Florida')\n",
    "display(florida_menu)\n",
    "\n",
    "georgia_menu = widgets.Dropdown(options=['Democrat', 'Republican', 'TBD'],\n",
    "    value='TBD',description='Georgia')\n",
    "display(georgia_menu)\n",
    "\n",
    "hawaii_menu = widgets.Dropdown(options=['Democrat', 'Republican', 'TBD'],\n",
    "    value='TBD',description='Hawaii')\n",
    "display(hawaii_menu)\n",
    "\n",
    "idaho_menu = widgets.Dropdown(options=['Democrat', 'Republican', 'TBD'],\n",
    "    value='TBD',description='Idaho')\n",
    "display(idaho_menu)\n",
    "\n",
    "illinois_menu = widgets.Dropdown(options=['Democrat', 'Republican', 'TBD'],\n",
    "    value='TBD',description='Illinois')\n",
    "display(illinois_menu)\n",
    "\n",
    "indiana_menu = widgets.Dropdown(options=['Democrat', 'Republican', 'TBD'],\n",
    "    value='TBD',description='Indiana')\n",
    "display(indiana_menu)\n",
    "\n",
    "iowa_menu = widgets.Dropdown(options=['Democrat', 'Republican', 'TBD'],\n",
    "    value='TBD',description='Iowa')\n",
    "display(iowa_menu)\n",
    "\n",
    "kansas_menu = widgets.Dropdown(options=['Democrat', 'Republican', 'TBD'],\n",
    "    value='TBD',description='Kansas')\n",
    "display(kansas_menu)\n",
    "\n",
    "kentucky_menu = widgets.Dropdown(options=['Democrat', 'Republican', 'TBD'],\n",
    "    value='TBD',description='Kentucky')\n",
    "display(kentucky_menu)\n",
    "\n",
    "louisiana_menu = widgets.Dropdown(options=['Democrat', 'Republican', 'TBD'],\n",
    "    value='TBD',description='Louisiana')\n",
    "display(louisiana_menu)\n",
    "\n",
    "maine_popular_menu = widgets.Dropdown(options=['Democrat', 'Republican', 'TBD'],\n",
    "    value='TBD',description='Maine Popular')\n",
    "display(maine_popular_menu)\n",
    "\n",
    "maine_01_menu = widgets.Dropdown(options=['Democrat', 'Republican', 'TBD'],\n",
    "    value='TBD',description='ME-01')\n",
    "display(maine_01_menu)\n",
    "\n",
    "maine_02_menu = widgets.Dropdown(options=['Democrat', 'Republican', 'TBD'],\n",
    "    value='TBD',description='ME-02')\n",
    "display(maine_02_menu)\n",
    "\n",
    "maryland_menu = widgets.Dropdown(options=['Democrat', 'Republican', 'TBD'],\n",
    "    value='TBD',description='Maryland')\n",
    "display(maryland_menu)\n",
    "\n",
    "massachusetts_menu = widgets.Dropdown(options=['Democrat', 'Republican', 'TBD'],\n",
    "    value='TBD',description='Massachusetts')\n",
    "display(massachusetts_menu)\n",
    "\n",
    "michigan_menu = widgets.Dropdown(options=['Democrat', 'Republican', 'TBD'],\n",
    "    value='TBD',description='Michigan')\n",
    "display(michigan_menu)\n",
    "\n",
    "minnesota_menu = widgets.Dropdown(options=['Democrat', 'Republican', 'TBD'],\n",
    "    value='TBD',description='Minnesota')\n",
    "display(minnesota_menu)\n",
    "\n",
    "mississippi_menu = widgets.Dropdown(options=['Democrat', 'Republican', 'TBD'],\n",
    "    value='TBD',description='Mississippi')\n",
    "display(mississippi_menu)\n",
    "\n",
    "missouri_menu = widgets.Dropdown(options=['Democrat', 'Republican', 'TBD'],\n",
    "    value='TBD',description='Missouri')\n",
    "display(missouri_menu)\n",
    "\n",
    "montana_menu = widgets.Dropdown(options=['Democrat', 'Republican', 'TBD'],\n",
    "    value='TBD',description='Montana')\n",
    "display(montana_menu)\n",
    "\n",
    "nebraska_popular_menu = widgets.Dropdown(options=['Democrat', 'Republican', 'TBD'],\n",
    "    value='TBD',description='Neb. Popular')\n",
    "display(nebraska_popular_menu)\n",
    "\n",
    "nebraska_01_menu = widgets.Dropdown(options=['Democrat', 'Republican', 'TBD'],\n",
    "    value='TBD',description='NE-01')\n",
    "display(nebraska_01_menu)\n",
    "\n",
    "nebraska_02_menu = widgets.Dropdown(options=['Democrat', 'Republican', 'TBD'],\n",
    "    value='TBD',description='NE-02')\n",
    "display(nebraska_02_menu)\n",
    "\n",
    "nebraska_03_menu = widgets.Dropdown(options=['Democrat', 'Republican', 'TBD'],\n",
    "    value='TBD',description='NE-03')\n",
    "display(nebraska_03_menu)\n",
    "\n",
    "nevada_menu = widgets.Dropdown(options=['Democrat', 'Republican', 'TBD'],\n",
    "    value='TBD',description='Nevada')\n",
    "display(nevada_menu)\n",
    "\n",
    "new_hampshire_menu = widgets.Dropdown(options=['Democrat', 'Republican', 'TBD'],\n",
    "    value='TBD',description='New Hampshire')\n",
    "display(new_hampshire_menu)\n",
    "\n",
    "new_jersey_menu = widgets.Dropdown(options=['Democrat', 'Republican', 'TBD'],\n",
    "    value='TBD',description='New Jersey')\n",
    "display(new_jersey_menu)\n",
    "\n",
    "new_mexico_menu = widgets.Dropdown(options=['Democrat', 'Republican', 'TBD'],\n",
    "    value='TBD',description='New Mexico')\n",
    "display(new_mexico_menu)\n",
    "\n",
    "new_york_menu = widgets.Dropdown(options=['Democrat', 'Republican', 'TBD'],\n",
    "    value='TBD',description='New York')\n",
    "display(new_york_menu)\n",
    "\n",
    "north_carolina_menu = widgets.Dropdown(options=['Democrat', 'Republican', 'TBD'],\n",
    "    value='TBD',description='North Carolina')\n",
    "display(north_carolina_menu)\n",
    "\n",
    "north_dakota_menu = widgets.Dropdown(options=['Democrat', 'Republican', 'TBD'],\n",
    "    value='TBD',description='North Dakota')\n",
    "display(north_dakota_menu)\n",
    "\n",
    "ohio_menu = widgets.Dropdown(options=['Democrat', 'Republican', 'TBD'],\n",
    "    value='TBD',description='Ohio')\n",
    "display(ohio_menu)\n",
    "\n",
    "oklahoma_menu = widgets.Dropdown(options=['Democrat', 'Republican', 'TBD'],\n",
    "    value='TBD',description='Oklahoma')\n",
    "display(oklahoma_menu)\n",
    "\n",
    "oregon_menu = widgets.Dropdown(options=['Democrat', 'Republican', 'TBD'],\n",
    "    value='TBD',description='Oregon')\n",
    "display(oregon_menu)\n",
    "\n",
    "pennsylvania_menu = widgets.Dropdown(options=['Democrat', 'Republican', 'TBD'],\n",
    "    value='TBD',description='Pennsylvania')\n",
    "display(pennsylvania_menu)\n",
    "\n",
    "rhode_island_menu = widgets.Dropdown(options=['Democrat', 'Republican', 'TBD'],\n",
    "    value='TBD',description='Rhode Island')\n",
    "display(rhode_island_menu)\n",
    "\n",
    "south_carolina_menu = widgets.Dropdown(options=['Democrat', 'Republican', 'TBD'],\n",
    "    value='TBD',description='South Carolina')\n",
    "display(south_carolina_menu)\n",
    "\n",
    "south_dakota_menu = widgets.Dropdown(options=['Democrat', 'Republican', 'TBD'],\n",
    "    value='TBD',description='South Dakota')\n",
    "display(south_dakota_menu)\n",
    "\n",
    "tennessee_menu = widgets.Dropdown(options=['Democrat', 'Republican', 'TBD'],\n",
    "    value='TBD',description='Tennessee')\n",
    "display(tennessee_menu)\n",
    "\n",
    "texas_menu = widgets.Dropdown(options=['Democrat', 'Republican', 'TBD'],\n",
    "    value='TBD',description='Texas')\n",
    "display(texas_menu)\n",
    "\n",
    "utah_menu = widgets.Dropdown(options=['Democrat', 'Republican', 'TBD'],\n",
    "    value='TBD',description='Utah')\n",
    "display(utah_menu)\n",
    "\n",
    "vermont_menu = widgets.Dropdown(options=['Democrat', 'Republican', 'TBD'],\n",
    "    value='TBD',description='Vermont')\n",
    "display(vermont_menu)\n",
    "\n",
    "virginia_menu = widgets.Dropdown(options=['Democrat', 'Republican', 'TBD'],\n",
    "    value='TBD',description='Virginia')\n",
    "display(virginia_menu)\n",
    "\n",
    "washington_menu = widgets.Dropdown(options=['Democrat', 'Republican', 'TBD'],\n",
    "    value='TBD',description='Washington')\n",
    "display(washington_menu)\n",
    "\n",
    "washington_dc_menu = widgets.Dropdown(options=['Democrat', 'Republican', 'TBD'],\n",
    "    value='TBD',description='Washington DC')\n",
    "display(washington_dc_menu)\n",
    "\n",
    "west_virginia_menu = widgets.Dropdown(options=['Democrat', 'Republican', 'TBD'],\n",
    "    value='TBD',description='West Virginia')\n",
    "display(west_virginia_menu)\n",
    "\n",
    "wisconsin_menu = widgets.Dropdown(options=['Democrat', 'Republican', 'TBD'],\n",
    "    value='TBD',description='Wisconsin')\n",
    "display(wisconsin_menu)\n",
    "\n",
    "wyoming_menu = widgets.Dropdown(options=['Democrat', 'Republican', 'TBD'],\n",
    "    value='TBD',description='Wyoming')\n",
    "display(wyoming_menu)"
   ]
  },
  {
   "cell_type": "markdown",
   "metadata": {},
   "source": [
    "### Step 4: Run the cell, don't change anything."
   ]
  },
  {
   "cell_type": "code",
   "execution_count": 12,
   "metadata": {},
   "outputs": [],
   "source": [
    "states['Alabama']['prediction'] = alabama_menu.value\n",
    "\n",
    "states['Alaska']['prediction'] = alaska_menu.value\n",
    "\n",
    "states['Arizona']['prediction'] = arizona_menu.value\n",
    "\n",
    "states['Arkansas']['prediction'] = arkansas_menu.value\n",
    "\n",
    "states['California']['prediction'] = california_menu.value\n",
    "\n",
    "states['Colorado']['prediction'] = colorado_menu.value\n",
    "\n",
    "states['Connecticut']['prediction'] = connecticut_menu.value\n",
    "\n",
    "states['Delaware']['prediction'] = delaware_menu.value\n",
    "\n",
    "states['Florida']['prediction'] = florida_menu.value\n",
    "\n",
    "states['Georgia']['prediction'] = georgia_menu.value\n",
    "\n",
    "states['Hawaii']['prediction'] = hawaii_menu.value\n",
    "\n",
    "states['Idaho']['prediction'] = idaho_menu.value\n",
    "\n",
    "states['Illinois']['prediction'] = illinois_menu.value\n",
    "\n",
    "states['Indiana']['prediction'] = indiana_menu.value\n",
    "\n",
    "states['Iowa']['prediction'] = iowa_menu.value\n",
    "\n",
    "states['Kansas']['prediction'] = kansas_menu.value\n",
    "\n",
    "states['Kentucky']['prediction'] = kentucky_menu.value\n",
    "\n",
    "states['Louisiana']['prediction'] = louisiana_menu.value\n",
    "\n",
    "Maine_popular = maine_popular_menu.value\n",
    "\n",
    "Maine_CD1 = maine_01_menu.value\n",
    "\n",
    "Maine_CD2 = maine_02_menu.value\n",
    "\n",
    "states['Maryland']['prediction'] = maryland_menu.value\n",
    "\n",
    "states['Massachusetts']['prediction'] = massachusetts_menu.value\n",
    "\n",
    "states['Michigan']['prediction'] = michigan_menu.value\n",
    "\n",
    "states['Minnesota']['prediction'] = minnesota_menu.value\n",
    "\n",
    "states['Mississippi']['prediction'] = mississippi_menu.value\n",
    "\n",
    "states['Missouri']['prediction'] = missouri_menu.value\n",
    "\n",
    "states['Montana']['prediction'] = montana_menu.value\n",
    "\n",
    "Nebraska_popular = nebraska_popular_menu.value\n",
    "\n",
    "Nebraska_CD1 = nebraska_01_menu.value\n",
    "\n",
    "Nebraska_CD2 = nebraska_02_menu.value\n",
    "\n",
    "Nebraska_CD3 = nebraska_03_menu.value\n",
    "\n",
    "states['Nevada']['prediction'] = nevada_menu.value\n",
    "\n",
    "states['New Hampshire']['prediction'] = new_hampshire_menu.value\n",
    "\n",
    "states['New Jersey']['prediction'] = new_jersey_menu.value\n",
    "\n",
    "states['New Mexico']['prediction'] = new_mexico_menu.value\n",
    "\n",
    "states['New York']['prediction'] = new_york_menu.value\n",
    "\n",
    "states['North Carolina']['prediction'] = north_carolina_menu.value\n",
    "\n",
    "states['North Dakota']['prediction'] = north_dakota_menu.value\n",
    "\n",
    "states['Ohio']['prediction'] = ohio_menu.value\n",
    "\n",
    "states['Oklahoma']['prediction'] = oklahoma_menu.value\n",
    "\n",
    "states['Oregon']['prediction'] = oregon_menu.value\n",
    "\n",
    "states['Pennsylvania']['prediction'] = pennsylvania_menu.value\n",
    "\n",
    "states['Rhode Island']['prediction'] = rhode_island_menu.value\n",
    "\n",
    "states['South Carolina']['prediction'] = south_carolina_menu.value\n",
    "\n",
    "states['South Dakota']['prediction'] = south_dakota_menu.value\n",
    "\n",
    "states['Tennessee']['prediction'] = tennessee_menu.value\n",
    "\n",
    "states['Texas']['prediction'] = texas_menu.value\n",
    "\n",
    "states['Utah']['prediction'] = utah_menu.value\n",
    "\n",
    "states['Vermont']['prediction'] = vermont_menu.value\n",
    "\n",
    "states['Virginia']['prediction'] = virginia_menu.value\n",
    "\n",
    "states['Washington']['prediction'] = washington_menu.value\n",
    "\n",
    "states['District of Columbia']['prediction'] = washington_dc_menu.value\n",
    "\n",
    "states['West Virginia']['prediction'] = west_virginia_menu.value\n",
    "\n",
    "states['Wisconsin']['prediction'] = wisconsin_menu.value\n",
    "\n",
    "states['Wyoming']['prediction'] = wyoming_menu.value"
   ]
  },
  {
   "cell_type": "markdown",
   "metadata": {},
   "source": [
    "### Step 5a: Change the filename if desired\n",
    "\n",
    "In the first line of this cell, change the name of the file your map is saved to.\n",
    "\n",
    "### Step 5b: Run the Cell, and View your Map!"
   ]
  },
  {
   "cell_type": "code",
   "execution_count": 13,
   "metadata": {
    "scrolled": false
   },
   "outputs": [
    {
     "name": "stderr",
     "output_type": "stream",
     "text": [
      "<ipython-input-13-ef46b377027c>:23: DeprecationWarning: The background_patch property is deprecated. Use GeoAxes.patch instead.\n",
      "  ax.background_patch.set_visible(False)\n",
      "<ipython-input-13-ef46b377027c>:24: DeprecationWarning: The outline_patch property is deprecated. Use GeoAxes.spines['geo'] or the default Axes properties instead.\n",
      "  ax.outline_patch.set_visible(False)\n"
     ]
    },
    {
     "data": {
      "image/png": "[encoded data removed]",
      "text/plain": [
       "<Figure size 1080x720 with 6 Axes>"
      ]
     },
     "metadata": {
      "needs_background": "light"
     },
     "output_type": "display_data"
    }
   ],
   "source": [
    "filename = 'my_pres_map.png'\n",
    "rcount = 0\n",
    "dcount = 0\n",
    "\n",
    "small_y = 9\n",
    "small_y2 = 9.5\n",
    "small_label = 9.1\n",
    "fig = plt.figure(figsize=(15,10))\n",
    "gs = fig.add_gridspec(5, 5)\n",
    "ax = fig.add_subplot(gs[0:-1,0:-1], projection=ccrs.LambertConformal())\n",
    "axak = fig.add_subplot(gs[3,0], projection=ccrs.LambertConformal())\n",
    "axhi = fig.add_subplot(gs[4,0], projection=ccrs.PlateCarree())\n",
    "axsmall = fig.add_subplot(gs[1:4,-1])\n",
    "axcount = fig.add_subplot(gs[4,2:])\n",
    "axleg = fig.add_subplot(gs[4,1])\n",
    "ax.set_extent([-125, -66.5, 20, 50], ccrs.Geodetic())\n",
    "axak.set_extent([-170, -130, 54, 72], ccrs.Geodetic())\n",
    "axhi.set_extent([-160.8,-154.4,18.6,22.7], ccrs.Geodetic())\n",
    "shapename = 'admin_1_states_provinces_lakes_shp'\n",
    "states_shp = shpreader.natural_earth(resolution='110m',\n",
    "                                     category='cultural', name=shapename)\n",
    "\n",
    "ax.background_patch.set_visible(False)\n",
    "ax.outline_patch.set_visible(False)\n",
    "\n",
    "ax.set_title('2020 Presidential Map')\n",
    "\n",
    "axsmall.set_xlim(0,10)\n",
    "axsmall.set_ylim(0,10)\n",
    "axsmall.axis('off')\n",
    "\n",
    "for astate in shpreader.Reader(states_shp).records():\n",
    "    \n",
    "    edgecolor = 'black'\n",
    "    facecolor = ''\n",
    "    try:\n",
    "        \n",
    "        pick = states[ astate.attributes['name'] ]['prediction']\n",
    "    except:\n",
    "        state_dens = 0\n",
    "\n",
    "    if pick == 'Republican':\n",
    "        facecolor = 'red'\n",
    "    elif pick == 'Democrat':\n",
    "        facecolor = 'blue'\n",
    "    elif pick == 'NE':\n",
    "        facecolor = 'lightgray'\n",
    "    else:\n",
    "        facecolor = 'gray'\n",
    "    \n",
    "    if astate.attributes['name'] == 'Alaska':\n",
    "        axak.add_geometries([astate.geometry], ccrs.PlateCarree(),\n",
    "                      facecolor=facecolor, edgecolor=edgecolor)\n",
    "        axak.text(states[astate.attributes['name']]['Lon'], states[astate.attributes['name']]['Lat'],astate.attributes['name_alt'][0:2]+'\\n('+str(states[astate.attributes['name']]['EV'])+')', horizontalalignment='left', \n",
    "               transform=ccrs.PlateCarree())\n",
    "    elif astate.attributes['name'] == 'Hawaii':\n",
    "        axhi.add_geometries([astate.geometry], ccrs.PlateCarree(),\n",
    "                      facecolor=facecolor, edgecolor=edgecolor)\n",
    "        axhi.text(states[astate.attributes['name']]['Lon'], states[astate.attributes['name']]['Lat'],astate.attributes['name_alt'][0:2]+' ('+str(states[astate.attributes['name']]['EV'])+')', horizontalalignment='left', \n",
    "               transform=ccrs.PlateCarree())\n",
    "    elif astate.attributes['name'] == 'Nebraska':\n",
    "        dem_neb = [Nebraska_popular,Nebraska_popular,Nebraska_CD1,Nebraska_CD2,Nebraska_CD3].count('Democrat')\n",
    "        rep_neb = [Nebraska_popular,Nebraska_popular,Nebraska_CD1,Nebraska_CD2,Nebraska_CD3].count('Republican')\n",
    "        if dem_neb == 0 and rep_neb == 0:\n",
    "            facecolor = 'gray'\n",
    "            edgecolor = 'black'\n",
    "            ax.add_geometries([astate.geometry], ccrs.PlateCarree(),\n",
    "                      facecolor=facecolor,edgecolor=edgecolor)\n",
    "        elif dem_neb == 0:\n",
    "            facecolor = 'red'\n",
    "            edgecolor = 'black'\n",
    "            ax.add_geometries([astate.geometry], ccrs.PlateCarree(),\n",
    "                      facecolor=facecolor,edgecolor=edgecolor)\n",
    "        elif rep_neb == 0:\n",
    "            facecolor = 'blue'\n",
    "            edgecolor = 'black'\n",
    "            ax.add_geometries([astate.geometry], ccrs.PlateCarree(),\n",
    "                      facecolor=facecolor,edgecolor=edgecolor)\n",
    "        elif dem_neb > rep_neb:\n",
    "            facecolor = 'blue'\n",
    "            edgecolor = 'red'\n",
    "            ax.add_geometries([astate.geometry], ccrs.PlateCarree(),\n",
    "                      facecolor=facecolor, edgecolor=edgecolor,hatch='r\\\\')\n",
    "        elif dem_neb < rep_neb:\n",
    "            facecolor = 'red'\n",
    "            edgecolor = 'blue'\n",
    "            ax.add_geometries([astate.geometry], ccrs.PlateCarree(),\n",
    "                      facecolor=facecolor, edgecolor=edgecolor,hatch='r\\\\')\n",
    "        elif dem_neb == rep_neb:\n",
    "            facecolor = 'purple'\n",
    "            edgecolor = 'black'\n",
    "            ax.add_geometries([astate.geometry], ccrs.PlateCarree(),\n",
    "                      facecolor=facecolor,edgecolor=edgecolor)\n",
    "        if Nebraska_popular == 'Republican':\n",
    "            neb_pop_color = 'red'\n",
    "        elif Nebraska_popular == 'Democrat':\n",
    "            neb_pop_color = 'blue'\n",
    "        else:\n",
    "            neb_pop_color = 'gray'\n",
    "        if Nebraska_CD1 == 'Republican':\n",
    "            neb_cd1_color = 'red'\n",
    "        elif Nebraska_CD1 == 'Democrat':\n",
    "            neb_cd1_color = 'blue'\n",
    "        else:\n",
    "            neb_cd1_color = 'gray'\n",
    "        if Nebraska_CD2 == 'Republican':\n",
    "            neb_cd2_color = 'red'\n",
    "        elif Nebraska_CD2 == 'Democrat':\n",
    "            neb_cd2_color = 'blue'\n",
    "        else:\n",
    "            neb_cd2_color = 'gray'\n",
    "        if Nebraska_CD3 == 'Republican':\n",
    "            neb_cd3_color = 'red'\n",
    "        elif Nebraska_CD3 == 'Democrat':\n",
    "            neb_cd3_color = 'blue'\n",
    "        else:\n",
    "            neb_cd3_color = 'gray'\n",
    "        axsmall.fill_betweenx((6,6.5),8,9,color=neb_pop_color)\n",
    "        axsmall.annotate('Nebraska Popular (2)',(9.5,6.1))\n",
    "        axsmall.fill_betweenx((5,5.5),8,9,color=neb_cd1_color)\n",
    "        axsmall.annotate('NE-01 (1)',(9.5,5.1))\n",
    "        axsmall.fill_betweenx((4,4.5),8,9,color=neb_cd2_color)\n",
    "        axsmall.annotate('NE-02 (1)',(9.5,4.1))\n",
    "        axsmall.fill_betweenx((3,3.5),8,9,color=neb_cd3_color)\n",
    "        axsmall.annotate('NE-03 (1)',(9.5,3.1))\n",
    "        \n",
    "    elif astate.attributes['name'] == 'Maine':\n",
    "        dem_me = [Maine_popular,Maine_popular,Maine_CD1,Maine_CD2].count('Democrat')\n",
    "        rep_me = [Maine_popular,Maine_popular,Maine_CD1,Maine_CD2].count('Republican')\n",
    "        if dem_me == 0 and rep_me == 0:\n",
    "            facecolor = 'gray'\n",
    "            edgecolor = 'black'\n",
    "            ax.add_geometries([astate.geometry], ccrs.PlateCarree(),\n",
    "                      facecolor=facecolor,edgecolor=edgecolor)\n",
    "        elif dem_me == 0:\n",
    "            facecolor = 'red'\n",
    "            edgecolor = 'black'\n",
    "            ax.add_geometries([astate.geometry], ccrs.PlateCarree(),\n",
    "                      facecolor=facecolor,edgecolor=edgecolor)\n",
    "        elif rep_me == 0:\n",
    "            facecolor = 'blue'\n",
    "            edgecolor = 'black'\n",
    "            ax.add_geometries([astate.geometry], ccrs.PlateCarree(),\n",
    "                      facecolor=facecolor,edgecolor=edgecolor)\n",
    "        elif dem_me > rep_me:\n",
    "            facecolor = 'blue'\n",
    "            edgecolor = 'red'\n",
    "            ax.add_geometries([astate.geometry], ccrs.PlateCarree(),\n",
    "                      facecolor=facecolor, edgecolor=edgecolor,hatch='r\\\\')\n",
    "        elif dem_me < rep_me:\n",
    "            facecolor = 'red'\n",
    "            edgecolor = 'blue'\n",
    "            ax.add_geometries([astate.geometry], ccrs.PlateCarree(),\n",
    "                      facecolor=facecolor, edgecolor=edgecolor,hatch='r\\\\')\n",
    "        elif dem_me == rep_me:\n",
    "            facecolor = 'purple'\n",
    "            edgecolor = 'black'\n",
    "            ax.add_geometries([astate.geometry], ccrs.PlateCarree(),\n",
    "                      facecolor=facecolor,edgecolor=edgecolor)\n",
    "        \n",
    "        if Maine_popular == 'Republican':\n",
    "            me_pop_color = 'red'\n",
    "        elif Maine_popular == 'Democrat':\n",
    "            me_pop_color = 'blue'\n",
    "        else:\n",
    "            me_pop_color = 'gray'\n",
    "        if Maine_CD1 == 'Republican':\n",
    "            me_cd1_color = 'red'\n",
    "        elif Maine_CD1 == 'Democrat':\n",
    "            me_cd1_color = 'blue'\n",
    "        else:\n",
    "            me_cd1_color = 'gray'\n",
    "        if Maine_CD2 == 'Republican':\n",
    "            me_cd2_color = 'red'\n",
    "        elif Nebraska_CD2 == 'Democrat':\n",
    "            me_cd2_color = 'blue'\n",
    "        else:\n",
    "            me_cd2_color = 'gray'\n",
    "       \n",
    "        axsmall.fill_betweenx((9,9.5),8,9,color=me_pop_color)\n",
    "        axsmall.annotate('Maine Popular (2)',(9.5,9.1))\n",
    "        axsmall.fill_betweenx((8,8.5),8,9,color=me_cd1_color)\n",
    "        axsmall.annotate('ME-01 (1)',(9.5,8.1))\n",
    "        axsmall.fill_betweenx((7,7.5),8,9,color=me_cd2_color)\n",
    "        axsmall.annotate('ME-02 (1)',(9.5,7.1))\n",
    "        \n",
    "        \n",
    "        \n",
    "    # `astate.geometry` is the polygon to plot\n",
    "    if astate.attributes['name'] != 'Nebraska' and astate.attributes['name'] != 'Maine':\n",
    "        ax.add_geometries([astate.geometry], ccrs.PlateCarree(),\n",
    "                          facecolor=facecolor, edgecolor=edgecolor)\n",
    "    if astate.attributes['name'] not in small_states and astate.attributes['name'] not in ['Hawaii','Alaska','Pennsylvania','Kentucky','Tennessee']:\n",
    "        ax.text(states[astate.attributes['name']]['Lon'], states[astate.attributes['name']]['Lat'],astate.attributes['name_alt'][0:2]+'\\n('+str(states[ astate.attributes['name'] ]['EV'])+')', horizontalalignment='left', \n",
    "               transform=ccrs.PlateCarree())\n",
    "    elif astate.attributes['name'] == 'Pennsylvania':\n",
    "        ax.text(states[astate.attributes['name']]['Lon'], states[astate.attributes['name']]['Lat'],astate.attributes['name_alt'][len(astate.attributes['name_alt'])-2:]+' ('+str(states[ astate.attributes['name'] ]['EV'])+')', horizontalalignment='left', \n",
    "               transform=ccrs.PlateCarree())\n",
    "    elif astate.attributes['name'] == 'Kentucky':\n",
    "        ax.text(states[astate.attributes['name']]['Lon'], states[astate.attributes['name']]['Lat'],'KY'+' ('+str(states[astate.attributes['name']]['EV'])+')', horizontalalignment='left', transform=ccrs.PlateCarree())\n",
    "    elif astate.attributes['name'] == 'Tennessee':\n",
    "        ax.text(states[astate.attributes['name']]['Lon'], states[astate.attributes['name']]['Lat'],astate.attributes['name_alt'][0:2]+' ('+str(states[ astate.attributes['name'] ]['EV'])+')', horizontalalignment='left', \n",
    "               transform=ccrs.PlateCarree())\n",
    "    \n",
    "    if astate.attributes['name'] in small_states:\n",
    "        if astate.attributes['name'] == 'Massachusetts':\n",
    "            axsmall.fill_betweenx((small_y,small_y2),1,2,color=facecolor)\n",
    "            axsmall.annotate('MA ('+str(states[ astate.attributes['name'] ]['EV'])+')',(2.5,small_label))\n",
    "        elif astate.attributes['name'] == 'Rhode Island':\n",
    "            axsmall.fill_betweenx((small_y,small_y2),1,2,color=facecolor)\n",
    "            axsmall.annotate('RI ('+str(states[ astate.attributes['name'] ]['EV'])+')',(2.5,small_label))\n",
    "        else:\n",
    "            axsmall.fill_betweenx((small_y,small_y2),1,2,color=facecolor)\n",
    "            axsmall.annotate(astate.attributes['name_alt'][0:2]+' ('+str(states[ astate.attributes['name'] ]['EV'])+')',(2.5,small_label))\n",
    "        small_y -= 1\n",
    "        small_y2 -= 1\n",
    "        small_label -= 1\n",
    "    \n",
    "        \n",
    "for astate in shpreader.Reader(states_shp).records():\n",
    "    if astate.attributes['name'] == 'Nebraska':\n",
    "        dcount += dem_neb\n",
    "        rcount += rep_neb\n",
    "    elif astate.attributes['name'] == 'Maine':\n",
    "        dcount += dem_me\n",
    "        rcount += rep_me\n",
    "    elif states[ astate.attributes['name'] ]['prediction'] == 'Republican':\n",
    "        rcount += states[ astate.attributes['name'] ]['EV']\n",
    "    elif states[ astate.attributes['name'] ]['prediction'] == 'Democrat':\n",
    "        dcount += states[ astate.attributes['name'] ]['EV']\n",
    "        \n",
    "\n",
    "axcount.fill_betweenx((0,0.5),0,dcount,color='blue')\n",
    "axcount.fill_betweenx((0,0.5),538-rcount,538,color='red')\n",
    "axcount.set_xlim(0,538)\n",
    "axcount.vlines(270,0,0.5,color='black')\n",
    "axcount.text(0,.55,str(dcount),color='blue',fontsize=18)\n",
    "axcount.text(533,.55,str(rcount),color='red',fontsize = 18)\n",
    "axcount.axis('off')\n",
    "axcount.set_title('Electoral Votes')    \n",
    "\n",
    "\n",
    "axleg.set_xlim(0,10)\n",
    "axleg.set_ylim(0,10)\n",
    "axleg.axis('off')\n",
    "axleg.fill_betweenx((9,10),1,2,color='red')\n",
    "axleg.annotate('Republican',(2.5,9.1))\n",
    "axleg.fill_betweenx((7.5,8.5),1,2,color='blue')\n",
    "axleg.annotate('Democrat',(2.5,7.6))\n",
    "axleg.fill_betweenx((6,7),1,2,color='gray')\n",
    "axleg.annotate('Prediction TBD',(2.5,6.1))\n",
    "axleg.fill_betweenx((4.5,5.5),1,2,facecolor='red',edgecolor='blue',hatch='r\\\\')\n",
    "axleg.annotate('Split Vote - R Majority',(2.5,4.6))\n",
    "axleg.fill_betweenx((3,4),1,2,facecolor='blue',edgecolor='red',hatch='r\\\\')\n",
    "axleg.annotate('Split Vote - D Majority',(2.5,3.1))\n",
    "axleg.fill_betweenx((1.5,2.5),1,2,color='purple')\n",
    "axleg.annotate('Split Vote - Even',(2.5,1.6))\n",
    "plt.savefig(filename)\n",
    "plt.show()"
   ]
  },
  {
   "cell_type": "markdown",
   "metadata": {},
   "source": [
    "### Step 6: Save your file\n",
    "\n",
    "To get to this page, you first were sent to a Jupyter Home Page, and you clicked on the Senate Map and this page opened in a new tab. Go back to the tab with the Home Page and you will see your new map file, click on it, and download to your device so you can keep your map as long as you wish.\n",
    "\n",
    "If you cannot find the Home Page, right-click on the Jupyter logo and open it in a new tab. You should be able to locate your new file there.\n",
    "\n",
    "You are encouraged to post your map here: https://www.electionperfection.org/forum"
   ]
  },
  {
   "cell_type": "code",
   "execution_count": null,
   "metadata": {},
   "outputs": [],
   "source": []
  },
  {
   "cell_type": "code",
   "execution_count": null,
   "metadata": {},
   "outputs": [],
   "source": []
  },
  {
   "cell_type": "code",
   "execution_count": null,
   "metadata": {},
   "outputs": [],
   "source": []
  }
 ],
 "metadata": {
  "kernelspec": {
   "display_name": "Python 3",
   "language": "python",
   "name": "python3"
  },
  "language_info": {
   "codemirror_mode": {
    "name": "ipython",
    "version": 3
   },
   "file_extension": ".py",
   "mimetype": "text/x-python",
   "name": "python",
   "nbconvert_exporter": "python",
   "pygments_lexer": "ipython3",
   "version": "3.8.2"
  }
 },
 "nbformat": 4,
 "nbformat_minor": 2
}
